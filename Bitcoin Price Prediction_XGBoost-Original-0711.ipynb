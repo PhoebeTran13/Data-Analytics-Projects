{
 "cells": [
  {
   "cell_type": "markdown",
   "id": "3dbdec0a",
   "metadata": {},
   "source": [
    "# CRYPTO FORECASTING USING MACHINE LEARNING MODELS\n",
    "## Phoebe Tran\n",
    "\n",
    "- Data source: https://www.kaggle.com/competitions/g-research-crypto-forecasting/data\n",
    "\n",
    "\n",
    "Project's Objectives<br>\n",
    "In this project, we will use machine learning expertise to predict the *close price* of bitcoin for the next 15 minutes so we can help our clients to make important decisions. For this task we will try different models in order to find the best one."
   ]
  },
  {
   "cell_type": "markdown",
   "id": "d81e2514",
   "metadata": {},
   "source": [
    "## *LINEAR REGRESSION MODEL"
   ]
  },
  {
   "cell_type": "markdown",
   "id": "5df96844",
   "metadata": {},
   "source": [
    "## 1. Importing libraries\n",
    "We first import required librabies"
   ]
  },
  {
   "cell_type": "code",
   "execution_count": 1,
   "id": "58534a75",
   "metadata": {},
   "outputs": [
    {
     "name": "stdout",
     "output_type": "stream",
     "text": [
      "Collecting xgboost\n",
      "  Downloading xgboost-1.5.2-py3-none-manylinux2014_x86_64.whl (173.6 MB)\n",
      "     |████████████████████████████████| 173.6 MB 7.1 kB/s             \n",
      "\u001b[?25hRequirement already satisfied: scipy in /home/ec2-user/anaconda3/envs/python3/lib/python3.6/site-packages (from xgboost) (1.5.3)\n",
      "Requirement already satisfied: numpy in /home/ec2-user/anaconda3/envs/python3/lib/python3.6/site-packages (from xgboost) (1.19.5)\n",
      "Installing collected packages: xgboost\n",
      "Successfully installed xgboost-1.5.2\n"
     ]
    }
   ],
   "source": [
    "import pandas as pd\n",
    "import numpy as np\n",
    "import math\n",
    "import matplotlib.pyplot as plt\n",
    "from sklearn.model_selection import train_test_split\n",
    "from sklearn.linear_model import LinearRegression\n",
    "from sklearn.preprocessing import StandardScaler\n",
    "from sklearn.preprocessing import MinMaxScaler\n",
    "from sklearn.metrics import mean_squared_error\n",
    "from pandas import read_csv\n",
    "from matplotlib import pyplot\n",
    "import matplotlib.dates as mdates\n",
    "from datetime import datetime\n",
    "from datetime import datetime\n",
    "import datetime as dt\n",
    "import time\n",
    "import sys\n",
    "!{sys.executable} -m pip install xgboost\n",
    "from xgboost import XGBRegressor"
   ]
  },
  {
   "cell_type": "markdown",
   "id": "3bc61f3e",
   "metadata": {},
   "source": [
    "## 2. Loading original dataset\n",
    "We downloaded the data from Kaggle and unzipped it, let's load it into our notebook now."
   ]
  },
  {
   "cell_type": "code",
   "execution_count": 2,
   "id": "15cd43a3",
   "metadata": {},
   "outputs": [
    {
     "data": {
      "text/html": [
       "<div>\n",
       "<style scoped>\n",
       "    .dataframe tbody tr th:only-of-type {\n",
       "        vertical-align: middle;\n",
       "    }\n",
       "\n",
       "    .dataframe tbody tr th {\n",
       "        vertical-align: top;\n",
       "    }\n",
       "\n",
       "    .dataframe thead th {\n",
       "        text-align: right;\n",
       "    }\n",
       "</style>\n",
       "<table border=\"1\" class=\"dataframe\">\n",
       "  <thead>\n",
       "    <tr style=\"text-align: right;\">\n",
       "      <th></th>\n",
       "      <th>timestamp</th>\n",
       "      <th>Asset_ID</th>\n",
       "      <th>Count</th>\n",
       "      <th>Open</th>\n",
       "      <th>High</th>\n",
       "      <th>Low</th>\n",
       "      <th>Close</th>\n",
       "      <th>Volume</th>\n",
       "      <th>VWAP</th>\n",
       "      <th>Target</th>\n",
       "    </tr>\n",
       "  </thead>\n",
       "  <tbody>\n",
       "    <tr>\n",
       "      <th>0</th>\n",
       "      <td>1514764860</td>\n",
       "      <td>2</td>\n",
       "      <td>40.0</td>\n",
       "      <td>2376.580000</td>\n",
       "      <td>2399.5000</td>\n",
       "      <td>2357.1400</td>\n",
       "      <td>2374.590000</td>\n",
       "      <td>19.233005</td>\n",
       "      <td>2373.116392</td>\n",
       "      <td>-0.004218</td>\n",
       "    </tr>\n",
       "    <tr>\n",
       "      <th>1</th>\n",
       "      <td>1514764860</td>\n",
       "      <td>0</td>\n",
       "      <td>5.0</td>\n",
       "      <td>8.530000</td>\n",
       "      <td>8.5300</td>\n",
       "      <td>8.5300</td>\n",
       "      <td>8.530000</td>\n",
       "      <td>78.380000</td>\n",
       "      <td>8.530000</td>\n",
       "      <td>-0.014399</td>\n",
       "    </tr>\n",
       "    <tr>\n",
       "      <th>2</th>\n",
       "      <td>1514764860</td>\n",
       "      <td>1</td>\n",
       "      <td>229.0</td>\n",
       "      <td>13835.194000</td>\n",
       "      <td>14013.8000</td>\n",
       "      <td>13666.1100</td>\n",
       "      <td>13850.176000</td>\n",
       "      <td>31.550062</td>\n",
       "      <td>13827.062093</td>\n",
       "      <td>-0.014643</td>\n",
       "    </tr>\n",
       "    <tr>\n",
       "      <th>3</th>\n",
       "      <td>1514764860</td>\n",
       "      <td>5</td>\n",
       "      <td>32.0</td>\n",
       "      <td>7.659600</td>\n",
       "      <td>7.6596</td>\n",
       "      <td>7.6567</td>\n",
       "      <td>7.657600</td>\n",
       "      <td>6626.713370</td>\n",
       "      <td>7.657713</td>\n",
       "      <td>-0.013922</td>\n",
       "    </tr>\n",
       "    <tr>\n",
       "      <th>4</th>\n",
       "      <td>1514764860</td>\n",
       "      <td>7</td>\n",
       "      <td>5.0</td>\n",
       "      <td>25.920000</td>\n",
       "      <td>25.9200</td>\n",
       "      <td>25.8740</td>\n",
       "      <td>25.877000</td>\n",
       "      <td>121.087310</td>\n",
       "      <td>25.891363</td>\n",
       "      <td>-0.008264</td>\n",
       "    </tr>\n",
       "    <tr>\n",
       "      <th>5</th>\n",
       "      <td>1514764860</td>\n",
       "      <td>6</td>\n",
       "      <td>173.0</td>\n",
       "      <td>738.302500</td>\n",
       "      <td>746.0000</td>\n",
       "      <td>732.5100</td>\n",
       "      <td>738.507500</td>\n",
       "      <td>335.987856</td>\n",
       "      <td>738.839291</td>\n",
       "      <td>-0.004809</td>\n",
       "    </tr>\n",
       "    <tr>\n",
       "      <th>6</th>\n",
       "      <td>1514764860</td>\n",
       "      <td>9</td>\n",
       "      <td>167.0</td>\n",
       "      <td>225.330000</td>\n",
       "      <td>227.7800</td>\n",
       "      <td>222.9800</td>\n",
       "      <td>225.206667</td>\n",
       "      <td>411.896642</td>\n",
       "      <td>225.197944</td>\n",
       "      <td>-0.009791</td>\n",
       "    </tr>\n",
       "    <tr>\n",
       "      <th>7</th>\n",
       "      <td>1514764860</td>\n",
       "      <td>11</td>\n",
       "      <td>7.0</td>\n",
       "      <td>329.090000</td>\n",
       "      <td>329.8800</td>\n",
       "      <td>329.0900</td>\n",
       "      <td>329.460000</td>\n",
       "      <td>6.635710</td>\n",
       "      <td>329.454118</td>\n",
       "      <td>NaN</td>\n",
       "    </tr>\n",
       "    <tr>\n",
       "      <th>8</th>\n",
       "      <td>1514764920</td>\n",
       "      <td>2</td>\n",
       "      <td>53.0</td>\n",
       "      <td>2374.553333</td>\n",
       "      <td>2400.9000</td>\n",
       "      <td>2354.2000</td>\n",
       "      <td>2372.286667</td>\n",
       "      <td>24.050259</td>\n",
       "      <td>2371.434498</td>\n",
       "      <td>-0.004079</td>\n",
       "    </tr>\n",
       "    <tr>\n",
       "      <th>9</th>\n",
       "      <td>1514764920</td>\n",
       "      <td>0</td>\n",
       "      <td>7.0</td>\n",
       "      <td>8.530000</td>\n",
       "      <td>8.5300</td>\n",
       "      <td>8.5145</td>\n",
       "      <td>8.514500</td>\n",
       "      <td>71.390000</td>\n",
       "      <td>8.520215</td>\n",
       "      <td>-0.015875</td>\n",
       "    </tr>\n",
       "  </tbody>\n",
       "</table>\n",
       "</div>"
      ],
      "text/plain": [
       "    timestamp  Asset_ID  Count          Open        High         Low  \\\n",
       "0  1514764860         2   40.0   2376.580000   2399.5000   2357.1400   \n",
       "1  1514764860         0    5.0      8.530000      8.5300      8.5300   \n",
       "2  1514764860         1  229.0  13835.194000  14013.8000  13666.1100   \n",
       "3  1514764860         5   32.0      7.659600      7.6596      7.6567   \n",
       "4  1514764860         7    5.0     25.920000     25.9200     25.8740   \n",
       "5  1514764860         6  173.0    738.302500    746.0000    732.5100   \n",
       "6  1514764860         9  167.0    225.330000    227.7800    222.9800   \n",
       "7  1514764860        11    7.0    329.090000    329.8800    329.0900   \n",
       "8  1514764920         2   53.0   2374.553333   2400.9000   2354.2000   \n",
       "9  1514764920         0    7.0      8.530000      8.5300      8.5145   \n",
       "\n",
       "          Close       Volume          VWAP    Target  \n",
       "0   2374.590000    19.233005   2373.116392 -0.004218  \n",
       "1      8.530000    78.380000      8.530000 -0.014399  \n",
       "2  13850.176000    31.550062  13827.062093 -0.014643  \n",
       "3      7.657600  6626.713370      7.657713 -0.013922  \n",
       "4     25.877000   121.087310     25.891363 -0.008264  \n",
       "5    738.507500   335.987856    738.839291 -0.004809  \n",
       "6    225.206667   411.896642    225.197944 -0.009791  \n",
       "7    329.460000     6.635710    329.454118       NaN  \n",
       "8   2372.286667    24.050259   2371.434498 -0.004079  \n",
       "9      8.514500    71.390000      8.520215 -0.015875  "
      ]
     },
     "execution_count": 2,
     "metadata": {},
     "output_type": "execute_result"
    }
   ],
   "source": [
    "crypto_df = pd.read_csv('s3://msba-crypto-cats-east/train.csv')\n",
    "crypto_df.head(10)"
   ]
  },
  {
   "cell_type": "code",
   "execution_count": 3,
   "id": "b2a13408",
   "metadata": {},
   "outputs": [
    {
     "data": {
      "text/plain": [
       "(24236806, 10)"
      ]
     },
     "execution_count": 3,
     "metadata": {},
     "output_type": "execute_result"
    }
   ],
   "source": [
    "crypto_df.shape"
   ]
  },
  {
   "cell_type": "markdown",
   "id": "1e10d86e",
   "metadata": {},
   "source": [
    "There are 24236806 records and 10 columns. We will extract bitcoin data from it with following features:\n",
    "\n",
    "- *timestamp*: All timestamps are returned as second Unix timestamps (the number of seconds elapsed since 1970-01-01 00:00:00.000 UTC). Timestamps in this dataset are multiple of 60, indicating minute-by-minute data.\n",
    "- *Asset_ID*: The asset ID corresponding to one of the crytocurrencies (e.g. Asset_ID = 1 for Bitcoin).\n",
    "- *Count*: Total number of trades in the time interval (last minute).\n",
    "- *Open*: Opening price of the time interval (in USD).\n",
    "- *High*: Highest price reached during time interval (in USD).\n",
    "- *Low*: Lowest price reached during time interval (in USD).\n",
    "- *Close*: Closing price of the time interval (in USD).\n",
    "- *Volume*: Quantity of asset bought or sold, displayed in base currency USD.\n",
    "- *VWAP*: The average price of the asset over the time interval, weighted by volume. VWAP is an aggregated form of trade data.\n",
    "- *Target*: Residual log-returns for the asset over a 15 minute horizon.\n",
    "\n",
    "The first two columns define the time and asset indexes for this data row. The 6 middle columns are feature columns with the trading data for this asset and minute in time. The last column is the prediction target. We will extract bitcoin data and use that dataset for this project."
   ]
  },
  {
   "cell_type": "code",
   "execution_count": 4,
   "id": "d54839d9",
   "metadata": {},
   "outputs": [
    {
     "name": "stdout",
     "output_type": "stream",
     "text": [
      "(1956282, 7)\n"
     ]
    },
    {
     "data": {
      "text/html": [
       "<div>\n",
       "<style scoped>\n",
       "    .dataframe tbody tr th:only-of-type {\n",
       "        vertical-align: middle;\n",
       "    }\n",
       "\n",
       "    .dataframe tbody tr th {\n",
       "        vertical-align: top;\n",
       "    }\n",
       "\n",
       "    .dataframe thead th {\n",
       "        text-align: right;\n",
       "    }\n",
       "</style>\n",
       "<table border=\"1\" class=\"dataframe\">\n",
       "  <thead>\n",
       "    <tr style=\"text-align: right;\">\n",
       "      <th></th>\n",
       "      <th>Count</th>\n",
       "      <th>Open</th>\n",
       "      <th>High</th>\n",
       "      <th>Low</th>\n",
       "      <th>Close</th>\n",
       "      <th>Volume</th>\n",
       "      <th>VWAP</th>\n",
       "    </tr>\n",
       "    <tr>\n",
       "      <th>timestamp</th>\n",
       "      <th></th>\n",
       "      <th></th>\n",
       "      <th></th>\n",
       "      <th></th>\n",
       "      <th></th>\n",
       "      <th></th>\n",
       "      <th></th>\n",
       "    </tr>\n",
       "  </thead>\n",
       "  <tbody>\n",
       "    <tr>\n",
       "      <th>1514764860</th>\n",
       "      <td>229.0</td>\n",
       "      <td>13835.194</td>\n",
       "      <td>14013.8</td>\n",
       "      <td>13666.11</td>\n",
       "      <td>13850.176</td>\n",
       "      <td>31.550062</td>\n",
       "      <td>13827.062093</td>\n",
       "    </tr>\n",
       "    <tr>\n",
       "      <th>1514764920</th>\n",
       "      <td>235.0</td>\n",
       "      <td>13835.036</td>\n",
       "      <td>14052.3</td>\n",
       "      <td>13680.00</td>\n",
       "      <td>13828.102</td>\n",
       "      <td>31.046432</td>\n",
       "      <td>13840.362591</td>\n",
       "    </tr>\n",
       "    <tr>\n",
       "      <th>1514764980</th>\n",
       "      <td>528.0</td>\n",
       "      <td>13823.900</td>\n",
       "      <td>14000.4</td>\n",
       "      <td>13601.00</td>\n",
       "      <td>13801.314</td>\n",
       "      <td>55.061820</td>\n",
       "      <td>13806.068014</td>\n",
       "    </tr>\n",
       "    <tr>\n",
       "      <th>1514765040</th>\n",
       "      <td>435.0</td>\n",
       "      <td>13802.512</td>\n",
       "      <td>13999.0</td>\n",
       "      <td>13576.28</td>\n",
       "      <td>13768.040</td>\n",
       "      <td>38.780529</td>\n",
       "      <td>13783.598101</td>\n",
       "    </tr>\n",
       "    <tr>\n",
       "      <th>1514765100</th>\n",
       "      <td>742.0</td>\n",
       "      <td>13766.000</td>\n",
       "      <td>13955.9</td>\n",
       "      <td>13554.44</td>\n",
       "      <td>13724.914</td>\n",
       "      <td>108.501637</td>\n",
       "      <td>13735.586842</td>\n",
       "    </tr>\n",
       "  </tbody>\n",
       "</table>\n",
       "</div>"
      ],
      "text/plain": [
       "            Count       Open     High       Low      Close      Volume  \\\n",
       "timestamp                                                                \n",
       "1514764860  229.0  13835.194  14013.8  13666.11  13850.176   31.550062   \n",
       "1514764920  235.0  13835.036  14052.3  13680.00  13828.102   31.046432   \n",
       "1514764980  528.0  13823.900  14000.4  13601.00  13801.314   55.061820   \n",
       "1514765040  435.0  13802.512  13999.0  13576.28  13768.040   38.780529   \n",
       "1514765100  742.0  13766.000  13955.9  13554.44  13724.914  108.501637   \n",
       "\n",
       "                    VWAP  \n",
       "timestamp                 \n",
       "1514764860  13827.062093  \n",
       "1514764920  13840.362591  \n",
       "1514764980  13806.068014  \n",
       "1514765040  13783.598101  \n",
       "1514765100  13735.586842  "
      ]
     },
     "execution_count": 4,
     "metadata": {},
     "output_type": "execute_result"
    }
   ],
   "source": [
    "btc = crypto_df[crypto_df[\"Asset_ID\"]==1].set_index(\"timestamp\") # Asset_ID = 1 for Bitcoin\n",
    "btc = btc.loc[0:,\"Count\":\"VWAP\"]\n",
    "print(btc.shape)\n",
    "btc.head()"
   ]
  },
  {
   "cell_type": "markdown",
   "id": "b5a1d7f7",
   "metadata": {},
   "source": [
    "## 3. Preprocessing"
   ]
  },
  {
   "cell_type": "markdown",
   "id": "3979b755",
   "metadata": {},
   "source": [
    "- Show the time range using the coversion from timestamp to datetime"
   ]
  },
  {
   "cell_type": "code",
   "execution_count": 5,
   "id": "0d981b55",
   "metadata": {},
   "outputs": [
    {
     "name": "stdout",
     "output_type": "stream",
     "text": [
      "BTC data goes from  2018-01-01T00:01:00 to  2021-09-21T00:00:00\n"
     ]
    }
   ],
   "source": [
    "beg_btc = btc.index[0].astype('datetime64[s]')\n",
    "end_btc = btc.index[-1].astype('datetime64[s]')\n",
    "print('BTC data goes from ', beg_btc, 'to ', end_btc)"
   ]
  },
  {
   "cell_type": "markdown",
   "id": "376f811a",
   "metadata": {},
   "source": [
    "- Checking missing data and Dealing with time gaps"
   ]
  },
  {
   "cell_type": "code",
   "execution_count": 6,
   "id": "ca71fc17",
   "metadata": {},
   "outputs": [
    {
     "name": "stdout",
     "output_type": "stream",
     "text": [
      "<class 'pandas.core.frame.DataFrame'>\n",
      "Int64Index: 1956282 entries, 1514764860 to 1632182400\n",
      "Data columns (total 7 columns):\n",
      " #   Column  Dtype  \n",
      "---  ------  -----  \n",
      " 0   Count   float64\n",
      " 1   Open    float64\n",
      " 2   High    float64\n",
      " 3   Low     float64\n",
      " 4   Close   float64\n",
      " 5   Volume  float64\n",
      " 6   VWAP    float64\n",
      "dtypes: float64(7)\n",
      "memory usage: 119.4 MB\n"
     ]
    }
   ],
   "source": [
    "btc.info()"
   ]
  },
  {
   "cell_type": "markdown",
   "id": "224388ab",
   "metadata": {},
   "source": [
    "We can see the number of rows in the training set, and that there are missing values for the targets columns, we will confirm by using \"isna\" function:"
   ]
  },
  {
   "cell_type": "code",
   "execution_count": 12,
   "id": "b880c8ce",
   "metadata": {},
   "outputs": [
    {
     "data": {
      "text/plain": [
       "Count     0\n",
       "Open      0\n",
       "High      0\n",
       "Low       0\n",
       "Close     0\n",
       "Volume    0\n",
       "VWAP      0\n",
       "dtype: int64"
      ]
     },
     "execution_count": 12,
     "metadata": {},
     "output_type": "execute_result"
    }
   ],
   "source": [
    "btc.isna().sum()"
   ]
  },
  {
   "cell_type": "markdown",
   "id": "7a49f69e",
   "metadata": {},
   "source": [
    "Missing  data represented by NaN, but instead by the absence of those rows. We can check the timestamp difference between consecutive rows to see if there is missing data:"
   ]
  },
  {
   "cell_type": "code",
   "execution_count": 13,
   "id": "af76ad7a",
   "metadata": {},
   "outputs": [
    {
     "data": {
      "text/plain": [
       "60    1956959\n",
       "Name: timestamp, dtype: int64"
      ]
     },
     "execution_count": 13,
     "metadata": {},
     "output_type": "execute_result"
    }
   ],
   "source": [
    "(btc.index[1:]-btc.index[:-1]).value_counts().head(5)"
   ]
  },
  {
   "cell_type": "markdown",
   "id": "9c47ae90",
   "metadata": {},
   "source": [
    "There are several time gaps in the data. To work with most time series models, we should preprocess our data into a format without time gaps. This will be similar with LSTM model, we will use the `.reindex()` method for forward filling, filling gaps with the previous valid value. "
   ]
  },
  {
   "cell_type": "code",
   "execution_count": 14,
   "id": "deac70d1",
   "metadata": {},
   "outputs": [
    {
     "data": {
      "text/plain": [
       "60    1956959\n",
       "Name: timestamp, dtype: int64"
      ]
     },
     "execution_count": 14,
     "metadata": {},
     "output_type": "execute_result"
    }
   ],
   "source": [
    "btc = btc.reindex(range(btc.index[0],btc.index[-1]+60,60),method='pad')\n",
    "(btc.index[1:]-btc.index[:-1]).value_counts().head()"
   ]
  },
  {
   "cell_type": "markdown",
   "id": "98d5de5a",
   "metadata": {},
   "source": [
    "Now we have dataset without time gap, next step is to save the file as cvs then we will use that cleaned dataset to move to next steps."
   ]
  },
  {
   "cell_type": "code",
   "execution_count": 15,
   "id": "fcdb7335",
   "metadata": {},
   "outputs": [],
   "source": [
    "# save the cleaned data\n",
    "#btc.to_csv(\"s3://msba-crypto-cats-east/baseline/btc_0628.csv\")"
   ]
  },
  {
   "cell_type": "markdown",
   "id": "a194d687",
   "metadata": {},
   "source": [
    "## 4. Loading dataset"
   ]
  },
  {
   "cell_type": "code",
   "execution_count": 16,
   "id": "42c5565f",
   "metadata": {},
   "outputs": [],
   "source": [
    "bitcoin = pd.read_csv(\"s3://msba-crypto-cats-east/baseline/btc_0628.csv\")"
   ]
  },
  {
   "cell_type": "markdown",
   "id": "4a95f25a",
   "metadata": {},
   "source": [
    "## 5. Exploring the dataset"
   ]
  },
  {
   "cell_type": "markdown",
   "id": "ff7d7e3f",
   "metadata": {},
   "source": [
    "- Print the shape of the dataset"
   ]
  },
  {
   "cell_type": "code",
   "execution_count": 17,
   "id": "d41cf29e",
   "metadata": {},
   "outputs": [
    {
     "data": {
      "text/plain": [
       "(1956960, 8)"
      ]
     },
     "execution_count": 17,
     "metadata": {},
     "output_type": "execute_result"
    }
   ],
   "source": [
    "bitcoin.shape"
   ]
  },
  {
   "cell_type": "markdown",
   "id": "c9f8f327",
   "metadata": {},
   "source": [
    "- Print the head of the dataset"
   ]
  },
  {
   "cell_type": "code",
   "execution_count": 18,
   "id": "ccae20fd",
   "metadata": {},
   "outputs": [
    {
     "data": {
      "text/html": [
       "<div>\n",
       "<style scoped>\n",
       "    .dataframe tbody tr th:only-of-type {\n",
       "        vertical-align: middle;\n",
       "    }\n",
       "\n",
       "    .dataframe tbody tr th {\n",
       "        vertical-align: top;\n",
       "    }\n",
       "\n",
       "    .dataframe thead th {\n",
       "        text-align: right;\n",
       "    }\n",
       "</style>\n",
       "<table border=\"1\" class=\"dataframe\">\n",
       "  <thead>\n",
       "    <tr style=\"text-align: right;\">\n",
       "      <th></th>\n",
       "      <th>timestamp</th>\n",
       "      <th>Count</th>\n",
       "      <th>Open</th>\n",
       "      <th>High</th>\n",
       "      <th>Low</th>\n",
       "      <th>Close</th>\n",
       "      <th>Volume</th>\n",
       "      <th>VWAP</th>\n",
       "    </tr>\n",
       "  </thead>\n",
       "  <tbody>\n",
       "    <tr>\n",
       "      <th>0</th>\n",
       "      <td>1514764860</td>\n",
       "      <td>229.0</td>\n",
       "      <td>13835.194</td>\n",
       "      <td>14013.8</td>\n",
       "      <td>13666.11</td>\n",
       "      <td>13850.176</td>\n",
       "      <td>31.550062</td>\n",
       "      <td>13827.062093</td>\n",
       "    </tr>\n",
       "    <tr>\n",
       "      <th>1</th>\n",
       "      <td>1514764920</td>\n",
       "      <td>235.0</td>\n",
       "      <td>13835.036</td>\n",
       "      <td>14052.3</td>\n",
       "      <td>13680.00</td>\n",
       "      <td>13828.102</td>\n",
       "      <td>31.046432</td>\n",
       "      <td>13840.362591</td>\n",
       "    </tr>\n",
       "    <tr>\n",
       "      <th>2</th>\n",
       "      <td>1514764980</td>\n",
       "      <td>528.0</td>\n",
       "      <td>13823.900</td>\n",
       "      <td>14000.4</td>\n",
       "      <td>13601.00</td>\n",
       "      <td>13801.314</td>\n",
       "      <td>55.061820</td>\n",
       "      <td>13806.068014</td>\n",
       "    </tr>\n",
       "    <tr>\n",
       "      <th>3</th>\n",
       "      <td>1514765040</td>\n",
       "      <td>435.0</td>\n",
       "      <td>13802.512</td>\n",
       "      <td>13999.0</td>\n",
       "      <td>13576.28</td>\n",
       "      <td>13768.040</td>\n",
       "      <td>38.780529</td>\n",
       "      <td>13783.598101</td>\n",
       "    </tr>\n",
       "    <tr>\n",
       "      <th>4</th>\n",
       "      <td>1514765100</td>\n",
       "      <td>742.0</td>\n",
       "      <td>13766.000</td>\n",
       "      <td>13955.9</td>\n",
       "      <td>13554.44</td>\n",
       "      <td>13724.914</td>\n",
       "      <td>108.501637</td>\n",
       "      <td>13735.586842</td>\n",
       "    </tr>\n",
       "  </tbody>\n",
       "</table>\n",
       "</div>"
      ],
      "text/plain": [
       "    timestamp  Count       Open     High       Low      Close      Volume  \\\n",
       "0  1514764860  229.0  13835.194  14013.8  13666.11  13850.176   31.550062   \n",
       "1  1514764920  235.0  13835.036  14052.3  13680.00  13828.102   31.046432   \n",
       "2  1514764980  528.0  13823.900  14000.4  13601.00  13801.314   55.061820   \n",
       "3  1514765040  435.0  13802.512  13999.0  13576.28  13768.040   38.780529   \n",
       "4  1514765100  742.0  13766.000  13955.9  13554.44  13724.914  108.501637   \n",
       "\n",
       "           VWAP  \n",
       "0  13827.062093  \n",
       "1  13840.362591  \n",
       "2  13806.068014  \n",
       "3  13783.598101  \n",
       "4  13735.586842  "
      ]
     },
     "execution_count": 18,
     "metadata": {},
     "output_type": "execute_result"
    }
   ],
   "source": [
    "bitcoin.head()"
   ]
  },
  {
   "cell_type": "markdown",
   "id": "58a98112",
   "metadata": {},
   "source": [
    "- Print the tail of the dataset"
   ]
  },
  {
   "cell_type": "code",
   "execution_count": 19,
   "id": "55829d9d",
   "metadata": {},
   "outputs": [
    {
     "data": {
      "text/html": [
       "<div>\n",
       "<style scoped>\n",
       "    .dataframe tbody tr th:only-of-type {\n",
       "        vertical-align: middle;\n",
       "    }\n",
       "\n",
       "    .dataframe tbody tr th {\n",
       "        vertical-align: top;\n",
       "    }\n",
       "\n",
       "    .dataframe thead th {\n",
       "        text-align: right;\n",
       "    }\n",
       "</style>\n",
       "<table border=\"1\" class=\"dataframe\">\n",
       "  <thead>\n",
       "    <tr style=\"text-align: right;\">\n",
       "      <th></th>\n",
       "      <th>timestamp</th>\n",
       "      <th>Count</th>\n",
       "      <th>Open</th>\n",
       "      <th>High</th>\n",
       "      <th>Low</th>\n",
       "      <th>Close</th>\n",
       "      <th>Volume</th>\n",
       "      <th>VWAP</th>\n",
       "    </tr>\n",
       "  </thead>\n",
       "  <tbody>\n",
       "    <tr>\n",
       "      <th>1956955</th>\n",
       "      <td>1632182160</td>\n",
       "      <td>1940.0</td>\n",
       "      <td>42983.780000</td>\n",
       "      <td>43001.850849</td>\n",
       "      <td>42878.26</td>\n",
       "      <td>42899.012857</td>\n",
       "      <td>56.850913</td>\n",
       "      <td>42935.489499</td>\n",
       "    </tr>\n",
       "    <tr>\n",
       "      <th>1956956</th>\n",
       "      <td>1632182220</td>\n",
       "      <td>2026.0</td>\n",
       "      <td>42904.197143</td>\n",
       "      <td>42932.000000</td>\n",
       "      <td>42840.16</td>\n",
       "      <td>42860.005714</td>\n",
       "      <td>80.993326</td>\n",
       "      <td>42879.576084</td>\n",
       "    </tr>\n",
       "    <tr>\n",
       "      <th>1956957</th>\n",
       "      <td>1632182280</td>\n",
       "      <td>1986.0</td>\n",
       "      <td>42859.385714</td>\n",
       "      <td>42887.500000</td>\n",
       "      <td>42797.20</td>\n",
       "      <td>42827.020000</td>\n",
       "      <td>65.677734</td>\n",
       "      <td>42844.090693</td>\n",
       "    </tr>\n",
       "    <tr>\n",
       "      <th>1956958</th>\n",
       "      <td>1632182340</td>\n",
       "      <td>4047.0</td>\n",
       "      <td>42839.012802</td>\n",
       "      <td>43042.160000</td>\n",
       "      <td>42818.10</td>\n",
       "      <td>43017.277143</td>\n",
       "      <td>138.335477</td>\n",
       "      <td>42935.761938</td>\n",
       "    </tr>\n",
       "    <tr>\n",
       "      <th>1956959</th>\n",
       "      <td>1632182400</td>\n",
       "      <td>2698.0</td>\n",
       "      <td>43009.961250</td>\n",
       "      <td>43048.510000</td>\n",
       "      <td>42961.64</td>\n",
       "      <td>43002.505000</td>\n",
       "      <td>128.206820</td>\n",
       "      <td>43011.414052</td>\n",
       "    </tr>\n",
       "  </tbody>\n",
       "</table>\n",
       "</div>"
      ],
      "text/plain": [
       "          timestamp   Count          Open          High       Low  \\\n",
       "1956955  1632182160  1940.0  42983.780000  43001.850849  42878.26   \n",
       "1956956  1632182220  2026.0  42904.197143  42932.000000  42840.16   \n",
       "1956957  1632182280  1986.0  42859.385714  42887.500000  42797.20   \n",
       "1956958  1632182340  4047.0  42839.012802  43042.160000  42818.10   \n",
       "1956959  1632182400  2698.0  43009.961250  43048.510000  42961.64   \n",
       "\n",
       "                Close      Volume          VWAP  \n",
       "1956955  42899.012857   56.850913  42935.489499  \n",
       "1956956  42860.005714   80.993326  42879.576084  \n",
       "1956957  42827.020000   65.677734  42844.090693  \n",
       "1956958  43017.277143  138.335477  42935.761938  \n",
       "1956959  43002.505000  128.206820  43011.414052  "
      ]
     },
     "execution_count": 19,
     "metadata": {},
     "output_type": "execute_result"
    }
   ],
   "source": [
    "bitcoin.tail()"
   ]
  },
  {
   "cell_type": "markdown",
   "id": "5280af6c",
   "metadata": {},
   "source": [
    "- Plot graph to see how Bitcoin has changed over time. Below is graph showing the Price vs. Time graph"
   ]
  },
  {
   "cell_type": "code",
   "execution_count": 20,
   "id": "0253b896",
   "metadata": {},
   "outputs": [
    {
     "data": {
      "text/plain": [
       "Text(0, 0.5, 'Price, $')"
      ]
     },
     "execution_count": 20,
     "metadata": {},
     "output_type": "execute_result"
    },
    {
     "data": {
      "image/png": "[encoded data removed]",
      "text/plain": [
       "<Figure size 1600x560 with 1 Axes>"
      ]
     },
     "metadata": {
      "needs_background": "light"
     },
     "output_type": "display_data"
    }
   ],
   "source": [
    "date = pd.to_datetime(btc.index,unit='s')\n",
    "fig = plt.figure(figsize=(20,7), dpi=80)\n",
    "plt.plot(date, btc['Close'].values)\n",
    "plt.title('Bitcoin')\n",
    "plt.xlabel('Date')\n",
    "plt.ylabel('Price, $')"
   ]
  },
  {
   "cell_type": "markdown",
   "id": "5710ad95",
   "metadata": {},
   "source": [
    "- Then check the `Open` over time"
   ]
  },
  {
   "cell_type": "code",
   "execution_count": 21,
   "id": "2d61a16e",
   "metadata": {},
   "outputs": [
    {
     "data": {
      "text/plain": [
       "Text(0, 0.5, 'Price, $')"
      ]
     },
     "execution_count": 21,
     "metadata": {},
     "output_type": "execute_result"
    },
    {
     "data": {
      "image/png": "[encoded data removed]",
      "text/plain": [
       "<Figure size 1600x560 with 1 Axes>"
      ]
     },
     "metadata": {
      "needs_background": "light"
     },
     "output_type": "display_data"
    }
   ],
   "source": [
    "date = pd.to_datetime(btc.index,unit='s')\n",
    "fig = plt.figure(figsize=(20,7), dpi=80)\n",
    "plt.plot(date, btc['Open'].values)\n",
    "plt.title('Bitcoin')\n",
    "plt.xlabel('Date')\n",
    "plt.ylabel('Price, $')"
   ]
  },
  {
   "cell_type": "markdown",
   "id": "df05214b",
   "metadata": {},
   "source": [
    "- Another graph showing how the `Volume` of Bitcoin has changed over time."
   ]
  },
  {
   "cell_type": "code",
   "execution_count": 22,
   "id": "fe8abaf8",
   "metadata": {},
   "outputs": [
    {
     "data": {
      "text/plain": [
       "Text(0, 0.5, 'Volume')"
      ]
     },
     "execution_count": 22,
     "metadata": {},
     "output_type": "execute_result"
    },
    {
     "data": {
      "image/png": "[encoded data removed]",
      "text/plain": [
       "<Figure size 1600x560 with 1 Axes>"
      ]
     },
     "metadata": {
      "needs_background": "light"
     },
     "output_type": "display_data"
    }
   ],
   "source": [
    "date = pd.to_datetime(btc.index,unit='s')\n",
    "fig = plt.figure(figsize=(20,7), dpi=80)\n",
    "plt.plot(date, btc['Volume'].values)\n",
    "plt.title('Bitcoin')\n",
    "plt.xlabel('Date')\n",
    "plt.ylabel('Volume')"
   ]
  },
  {
   "cell_type": "markdown",
   "id": "80b7d8ac",
   "metadata": {},
   "source": [
    "- Below graph shows the total number of trades over time. We can see the number of trades have been increased over time."
   ]
  },
  {
   "cell_type": "code",
   "execution_count": 23,
   "id": "3a12c20d",
   "metadata": {},
   "outputs": [
    {
     "data": {
      "text/plain": [
       "Text(0, 0.5, 'Count')"
      ]
     },
     "execution_count": 23,
     "metadata": {},
     "output_type": "execute_result"
    },
    {
     "data": {
      "image/png": "[encoded data removed]",
      "text/plain": [
       "<Figure size 1600x560 with 1 Axes>"
      ]
     },
     "metadata": {
      "needs_background": "light"
     },
     "output_type": "display_data"
    }
   ],
   "source": [
    "date = pd.to_datetime(btc.index,unit='s')\n",
    "fig = plt.figure(figsize=(20,7), dpi=80)\n",
    "plt.plot(date, btc['Count'].values)\n",
    "plt.title('Bitcoin')\n",
    "plt.xlabel('Date')\n",
    "plt.ylabel('Count')"
   ]
  },
  {
   "cell_type": "code",
   "execution_count": 24,
   "id": "95239ec6",
   "metadata": {},
   "outputs": [
    {
     "data": {
      "image/png": "[encoded data removed]",
      "text/plain": [
       "<Figure size 720x432 with 1 Axes>"
      ]
     },
     "metadata": {
      "needs_background": "light"
     },
     "output_type": "display_data"
    }
   ],
   "source": [
    "# find the yearwise transaction pattern\n",
    "bitcoin1=bitcoin.set_index('timestamp')\n",
    "f = plt.figure(figsize = (10,6))\n",
    "\n",
    "ax = f.add_subplot(111)\n",
    "ax.set_facecolor('azure')\n",
    "plt.plot(bitcoin1['Close'], c = 'darkblue')\n",
    "plt.axvline(x = 1514764860, label = 'Start of 2018', c = 'blue')\n",
    "plt.axvline(x = 1546300860, label = 'Start of 2019', c = 'orange')\n",
    "plt.axvline(x = 1577836860, label = 'Start of 2020', c = 'forestgreen')\n",
    "plt.axvline(x = 1609459260, label = 'Start of 2021', c = 'crimson')\n",
    "plt.legend()\n",
    "plt.xlabel('Time')\n",
    "plt.ylabel('Bitcoin Close')\n",
    "plt.grid()\n",
    "plt.title('Close price of Bitcoin')\n",
    "\n",
    "plt.show()"
   ]
  },
  {
   "cell_type": "markdown",
   "id": "c0ae15f0",
   "metadata": {},
   "source": [
    "We can easily see from the chart above that bitcoin had significant increasing in 2021, but in 2018 to 2020 it didn't have that much change, the price started to increase by the end of 2020."
   ]
  },
  {
   "cell_type": "markdown",
   "id": "ac01b378",
   "metadata": {},
   "source": [
    "## Descriptive statistics"
   ]
  },
  {
   "cell_type": "code",
   "execution_count": 25,
   "id": "0b533702",
   "metadata": {},
   "outputs": [
    {
     "data": {
      "text/html": [
       "<div>\n",
       "<style scoped>\n",
       "    .dataframe tbody tr th:only-of-type {\n",
       "        vertical-align: middle;\n",
       "    }\n",
       "\n",
       "    .dataframe tbody tr th {\n",
       "        vertical-align: top;\n",
       "    }\n",
       "\n",
       "    .dataframe thead th {\n",
       "        text-align: right;\n",
       "    }\n",
       "</style>\n",
       "<table border=\"1\" class=\"dataframe\">\n",
       "  <thead>\n",
       "    <tr style=\"text-align: right;\">\n",
       "      <th></th>\n",
       "      <th>Count</th>\n",
       "      <th>Open</th>\n",
       "      <th>High</th>\n",
       "      <th>Low</th>\n",
       "      <th>Close</th>\n",
       "      <th>Volume</th>\n",
       "      <th>VWAP</th>\n",
       "    </tr>\n",
       "  </thead>\n",
       "  <tbody>\n",
       "    <tr>\n",
       "      <th>count</th>\n",
       "      <td>1956960.00000</td>\n",
       "      <td>1956960.00000</td>\n",
       "      <td>1956960.00000</td>\n",
       "      <td>1956960.00000</td>\n",
       "      <td>1956960.00000</td>\n",
       "      <td>1956960.00000</td>\n",
       "      <td>1956960.00000</td>\n",
       "    </tr>\n",
       "    <tr>\n",
       "      <th>mean</th>\n",
       "      <td>1082.04475</td>\n",
       "      <td>15608.68223</td>\n",
       "      <td>15649.36142</td>\n",
       "      <td>15575.61440</td>\n",
       "      <td>15608.68257</td>\n",
       "      <td>92.82028</td>\n",
       "      <td>15608.56191</td>\n",
       "    </tr>\n",
       "    <tr>\n",
       "      <th>std</th>\n",
       "      <td>1601.67241</td>\n",
       "      <td>15119.57441</td>\n",
       "      <td>15130.20280</td>\n",
       "      <td>15104.42902</td>\n",
       "      <td>15119.60222</td>\n",
       "      <td>155.38791</td>\n",
       "      <td>15119.45477</td>\n",
       "    </tr>\n",
       "    <tr>\n",
       "      <th>min</th>\n",
       "      <td>1.00000</td>\n",
       "      <td>3149.65714</td>\n",
       "      <td>3176.91000</td>\n",
       "      <td>3120.00000</td>\n",
       "      <td>3151.54500</td>\n",
       "      <td>0.00010</td>\n",
       "      <td>3152.32587</td>\n",
       "    </tr>\n",
       "    <tr>\n",
       "      <th>25%</th>\n",
       "      <td>298.00000</td>\n",
       "      <td>6849.08799</td>\n",
       "      <td>6866.38500</td>\n",
       "      <td>6836.59250</td>\n",
       "      <td>6849.04446</td>\n",
       "      <td>30.18709</td>\n",
       "      <td>6849.11414</td>\n",
       "    </tr>\n",
       "    <tr>\n",
       "      <th>50%</th>\n",
       "      <td>563.00000</td>\n",
       "      <td>9204.97250</td>\n",
       "      <td>9221.20000</td>\n",
       "      <td>9190.26000</td>\n",
       "      <td>9204.93012</td>\n",
       "      <td>52.78533</td>\n",
       "      <td>9204.92734</td>\n",
       "    </tr>\n",
       "    <tr>\n",
       "      <th>75%</th>\n",
       "      <td>1259.00000</td>\n",
       "      <td>13459.61694</td>\n",
       "      <td>13516.34250</td>\n",
       "      <td>13393.46032</td>\n",
       "      <td>13460.30958</td>\n",
       "      <td>97.65168</td>\n",
       "      <td>13460.49157</td>\n",
       "    </tr>\n",
       "    <tr>\n",
       "      <th>max</th>\n",
       "      <td>87478.00000</td>\n",
       "      <td>64805.94375</td>\n",
       "      <td>64900.00000</td>\n",
       "      <td>64670.53000</td>\n",
       "      <td>64808.53728</td>\n",
       "      <td>10404.99537</td>\n",
       "      <td>64799.82221</td>\n",
       "    </tr>\n",
       "  </tbody>\n",
       "</table>\n",
       "</div>"
      ],
      "text/plain": [
       "               Count           Open           High            Low  \\\n",
       "count  1956960.00000  1956960.00000  1956960.00000  1956960.00000   \n",
       "mean      1082.04475    15608.68223    15649.36142    15575.61440   \n",
       "std       1601.67241    15119.57441    15130.20280    15104.42902   \n",
       "min          1.00000     3149.65714     3176.91000     3120.00000   \n",
       "25%        298.00000     6849.08799     6866.38500     6836.59250   \n",
       "50%        563.00000     9204.97250     9221.20000     9190.26000   \n",
       "75%       1259.00000    13459.61694    13516.34250    13393.46032   \n",
       "max      87478.00000    64805.94375    64900.00000    64670.53000   \n",
       "\n",
       "               Close         Volume           VWAP  \n",
       "count  1956960.00000  1956960.00000  1956960.00000  \n",
       "mean     15608.68257       92.82028    15608.56191  \n",
       "std      15119.60222      155.38791    15119.45477  \n",
       "min       3151.54500        0.00010     3152.32587  \n",
       "25%       6849.04446       30.18709     6849.11414  \n",
       "50%       9204.93012       52.78533     9204.92734  \n",
       "75%      13460.30958       97.65168    13460.49157  \n",
       "max      64808.53728    10404.99537    64799.82221  "
      ]
     },
     "execution_count": 25,
     "metadata": {},
     "output_type": "execute_result"
    }
   ],
   "source": [
    "bitcoin1.describe().apply(lambda s: s.apply('{0:.5f}'.format))"
   ]
  },
  {
   "cell_type": "markdown",
   "id": "fe624a8d",
   "metadata": {},
   "source": [
    "- From descriptive statistics table above, we can see the price range has a significant different. Looking into `Close`, in the time frame from 2018 to 2021, the lowest price of bitcoin was 3151 but the higest price was 64808, we can easily see how volatite the bitcoin was in the past.\n",
    "- The std of most of the variables have a pretty close value with the mean, only volume has a big differece. If the data points are further from the mean, there is a higher deviation within the data set; thus, the more spread out the data, the higher the standard deviation. We can conclude that Open, High, Low and Close values are really volitile but the volume of trading is pretty consistent compare to other components."
   ]
  },
  {
   "cell_type": "markdown",
   "id": "fc90f034",
   "metadata": {},
   "source": [
    "## 6. Build the model"
   ]
  },
  {
   "cell_type": "markdown",
   "id": "27c74d96",
   "metadata": {},
   "source": [
    "- Since 2021 data has a big change compared to the rest of the dataset, We will split data to use data in 2021 to predict the price."
   ]
  },
  {
   "cell_type": "code",
   "execution_count": 26,
   "id": "ff4a0b02",
   "metadata": {},
   "outputs": [],
   "source": [
    "totimestamp = lambda s: np.int32(time.mktime(datetime.strptime(s, \"%m/%d/%Y\").timetuple()))\n",
    "bitcoin21 = bitcoin.loc[totimestamp('01/01/2021'):totimestamp('09/21/2021'),]\n",
    "bitcoin21 = bitcoin.set_index(\"timestamp\")"
   ]
  },
  {
   "cell_type": "code",
   "execution_count": 27,
   "id": "ad6cde85",
   "metadata": {},
   "outputs": [
    {
     "data": {
      "text/plain": [
       "(1956960, 7)"
      ]
     },
     "execution_count": 27,
     "metadata": {},
     "output_type": "execute_result"
    }
   ],
   "source": [
    "bitcoin21.shape"
   ]
  },
  {
   "cell_type": "code",
   "execution_count": 28,
   "id": "63650b9e",
   "metadata": {},
   "outputs": [
    {
     "data": {
      "text/html": [
       "<div>\n",
       "<style scoped>\n",
       "    .dataframe tbody tr th:only-of-type {\n",
       "        vertical-align: middle;\n",
       "    }\n",
       "\n",
       "    .dataframe tbody tr th {\n",
       "        vertical-align: top;\n",
       "    }\n",
       "\n",
       "    .dataframe thead th {\n",
       "        text-align: right;\n",
       "    }\n",
       "</style>\n",
       "<table border=\"1\" class=\"dataframe\">\n",
       "  <thead>\n",
       "    <tr style=\"text-align: right;\">\n",
       "      <th></th>\n",
       "      <th>Count</th>\n",
       "      <th>Open</th>\n",
       "      <th>High</th>\n",
       "      <th>Low</th>\n",
       "      <th>Close</th>\n",
       "      <th>Volume</th>\n",
       "      <th>VWAP</th>\n",
       "      <th>datetime</th>\n",
       "    </tr>\n",
       "    <tr>\n",
       "      <th>timestamp</th>\n",
       "      <th></th>\n",
       "      <th></th>\n",
       "      <th></th>\n",
       "      <th></th>\n",
       "      <th></th>\n",
       "      <th></th>\n",
       "      <th></th>\n",
       "      <th></th>\n",
       "    </tr>\n",
       "  </thead>\n",
       "  <tbody>\n",
       "    <tr>\n",
       "      <th>1514764860</th>\n",
       "      <td>229.0</td>\n",
       "      <td>13835.194</td>\n",
       "      <td>14013.8</td>\n",
       "      <td>13666.11</td>\n",
       "      <td>13850.176</td>\n",
       "      <td>31.550062</td>\n",
       "      <td>13827.062093</td>\n",
       "      <td>2018-01-01 00:01:00</td>\n",
       "    </tr>\n",
       "    <tr>\n",
       "      <th>1514764920</th>\n",
       "      <td>235.0</td>\n",
       "      <td>13835.036</td>\n",
       "      <td>14052.3</td>\n",
       "      <td>13680.00</td>\n",
       "      <td>13828.102</td>\n",
       "      <td>31.046432</td>\n",
       "      <td>13840.362591</td>\n",
       "      <td>2018-01-01 00:02:00</td>\n",
       "    </tr>\n",
       "    <tr>\n",
       "      <th>1514764980</th>\n",
       "      <td>528.0</td>\n",
       "      <td>13823.900</td>\n",
       "      <td>14000.4</td>\n",
       "      <td>13601.00</td>\n",
       "      <td>13801.314</td>\n",
       "      <td>55.061820</td>\n",
       "      <td>13806.068014</td>\n",
       "      <td>2018-01-01 00:03:00</td>\n",
       "    </tr>\n",
       "    <tr>\n",
       "      <th>1514765040</th>\n",
       "      <td>435.0</td>\n",
       "      <td>13802.512</td>\n",
       "      <td>13999.0</td>\n",
       "      <td>13576.28</td>\n",
       "      <td>13768.040</td>\n",
       "      <td>38.780529</td>\n",
       "      <td>13783.598101</td>\n",
       "      <td>2018-01-01 00:04:00</td>\n",
       "    </tr>\n",
       "    <tr>\n",
       "      <th>1514765100</th>\n",
       "      <td>742.0</td>\n",
       "      <td>13766.000</td>\n",
       "      <td>13955.9</td>\n",
       "      <td>13554.44</td>\n",
       "      <td>13724.914</td>\n",
       "      <td>108.501637</td>\n",
       "      <td>13735.586842</td>\n",
       "      <td>2018-01-01 00:05:00</td>\n",
       "    </tr>\n",
       "  </tbody>\n",
       "</table>\n",
       "</div>"
      ],
      "text/plain": [
       "            Count       Open     High       Low      Close      Volume  \\\n",
       "timestamp                                                                \n",
       "1514764860  229.0  13835.194  14013.8  13666.11  13850.176   31.550062   \n",
       "1514764920  235.0  13835.036  14052.3  13680.00  13828.102   31.046432   \n",
       "1514764980  528.0  13823.900  14000.4  13601.00  13801.314   55.061820   \n",
       "1514765040  435.0  13802.512  13999.0  13576.28  13768.040   38.780529   \n",
       "1514765100  742.0  13766.000  13955.9  13554.44  13724.914  108.501637   \n",
       "\n",
       "                    VWAP            datetime  \n",
       "timestamp                                     \n",
       "1514764860  13827.062093 2018-01-01 00:01:00  \n",
       "1514764920  13840.362591 2018-01-01 00:02:00  \n",
       "1514764980  13806.068014 2018-01-01 00:03:00  \n",
       "1514765040  13783.598101 2018-01-01 00:04:00  \n",
       "1514765100  13735.586842 2018-01-01 00:05:00  "
      ]
     },
     "execution_count": 28,
     "metadata": {},
     "output_type": "execute_result"
    }
   ],
   "source": [
    "bitcoin21['datetime'] = pd.to_datetime(bitcoin21.index,unit='s')\n",
    "bitcoin21_plot = bitcoin21.set_index('datetime')\n",
    "bitcoin21.head()"
   ]
  },
  {
   "cell_type": "code",
   "execution_count": 29,
   "id": "cfda2ef8",
   "metadata": {},
   "outputs": [
    {
     "data": {
      "text/html": [
       "<div>\n",
       "<style scoped>\n",
       "    .dataframe tbody tr th:only-of-type {\n",
       "        vertical-align: middle;\n",
       "    }\n",
       "\n",
       "    .dataframe tbody tr th {\n",
       "        vertical-align: top;\n",
       "    }\n",
       "\n",
       "    .dataframe thead th {\n",
       "        text-align: right;\n",
       "    }\n",
       "</style>\n",
       "<table border=\"1\" class=\"dataframe\">\n",
       "  <thead>\n",
       "    <tr style=\"text-align: right;\">\n",
       "      <th></th>\n",
       "      <th>Count</th>\n",
       "      <th>Open</th>\n",
       "      <th>High</th>\n",
       "      <th>Low</th>\n",
       "      <th>Close</th>\n",
       "      <th>Volume</th>\n",
       "      <th>VWAP</th>\n",
       "      <th>datetime</th>\n",
       "    </tr>\n",
       "    <tr>\n",
       "      <th>timestamp</th>\n",
       "      <th></th>\n",
       "      <th></th>\n",
       "      <th></th>\n",
       "      <th></th>\n",
       "      <th></th>\n",
       "      <th></th>\n",
       "      <th></th>\n",
       "      <th></th>\n",
       "    </tr>\n",
       "  </thead>\n",
       "  <tbody>\n",
       "    <tr>\n",
       "      <th>1632182160</th>\n",
       "      <td>1940.0</td>\n",
       "      <td>42983.780000</td>\n",
       "      <td>43001.850849</td>\n",
       "      <td>42878.26</td>\n",
       "      <td>42899.012857</td>\n",
       "      <td>56.850913</td>\n",
       "      <td>42935.489499</td>\n",
       "      <td>2021-09-20 23:56:00</td>\n",
       "    </tr>\n",
       "    <tr>\n",
       "      <th>1632182220</th>\n",
       "      <td>2026.0</td>\n",
       "      <td>42904.197143</td>\n",
       "      <td>42932.000000</td>\n",
       "      <td>42840.16</td>\n",
       "      <td>42860.005714</td>\n",
       "      <td>80.993326</td>\n",
       "      <td>42879.576084</td>\n",
       "      <td>2021-09-20 23:57:00</td>\n",
       "    </tr>\n",
       "    <tr>\n",
       "      <th>1632182280</th>\n",
       "      <td>1986.0</td>\n",
       "      <td>42859.385714</td>\n",
       "      <td>42887.500000</td>\n",
       "      <td>42797.20</td>\n",
       "      <td>42827.020000</td>\n",
       "      <td>65.677734</td>\n",
       "      <td>42844.090693</td>\n",
       "      <td>2021-09-20 23:58:00</td>\n",
       "    </tr>\n",
       "    <tr>\n",
       "      <th>1632182340</th>\n",
       "      <td>4047.0</td>\n",
       "      <td>42839.012802</td>\n",
       "      <td>43042.160000</td>\n",
       "      <td>42818.10</td>\n",
       "      <td>43017.277143</td>\n",
       "      <td>138.335477</td>\n",
       "      <td>42935.761938</td>\n",
       "      <td>2021-09-20 23:59:00</td>\n",
       "    </tr>\n",
       "    <tr>\n",
       "      <th>1632182400</th>\n",
       "      <td>2698.0</td>\n",
       "      <td>43009.961250</td>\n",
       "      <td>43048.510000</td>\n",
       "      <td>42961.64</td>\n",
       "      <td>43002.505000</td>\n",
       "      <td>128.206820</td>\n",
       "      <td>43011.414052</td>\n",
       "      <td>2021-09-21 00:00:00</td>\n",
       "    </tr>\n",
       "  </tbody>\n",
       "</table>\n",
       "</div>"
      ],
      "text/plain": [
       "             Count          Open          High       Low         Close  \\\n",
       "timestamp                                                                \n",
       "1632182160  1940.0  42983.780000  43001.850849  42878.26  42899.012857   \n",
       "1632182220  2026.0  42904.197143  42932.000000  42840.16  42860.005714   \n",
       "1632182280  1986.0  42859.385714  42887.500000  42797.20  42827.020000   \n",
       "1632182340  4047.0  42839.012802  43042.160000  42818.10  43017.277143   \n",
       "1632182400  2698.0  43009.961250  43048.510000  42961.64  43002.505000   \n",
       "\n",
       "                Volume          VWAP            datetime  \n",
       "timestamp                                                 \n",
       "1632182160   56.850913  42935.489499 2021-09-20 23:56:00  \n",
       "1632182220   80.993326  42879.576084 2021-09-20 23:57:00  \n",
       "1632182280   65.677734  42844.090693 2021-09-20 23:58:00  \n",
       "1632182340  138.335477  42935.761938 2021-09-20 23:59:00  \n",
       "1632182400  128.206820  43011.414052 2021-09-21 00:00:00  "
      ]
     },
     "execution_count": 29,
     "metadata": {},
     "output_type": "execute_result"
    }
   ],
   "source": [
    "bitcoin21.tail()"
   ]
  },
  {
   "cell_type": "code",
   "execution_count": 30,
   "id": "bf2318dd",
   "metadata": {},
   "outputs": [],
   "source": [
    "#save the clean data to a csv file\n",
    "#bitcoin21.to_csv(\"s3://msba-crypto-cats-east/sample-lstm/btc_2021.csv\")"
   ]
  },
  {
   "cell_type": "markdown",
   "id": "83590ada",
   "metadata": {},
   "source": [
    "### Select Dates"
   ]
  },
  {
   "cell_type": "markdown",
   "id": "097e89d5",
   "metadata": {},
   "source": [
    "- We split `80%` data points for training and `20%` for testing. Observation is recorded every 60 seconds, that means 60 times per hour. \n",
    "\n",
    "- We are tracking data from `2021` and `one month`. This data will be used to predict the price after 15 timestamps (150/10=15 minutes).\n",
    "\n",
    "- to normalize data, We will take the `MinMaxScaler` preprocessing class from the scikit-learn library."
   ]
  },
  {
   "cell_type": "code",
   "execution_count": 31,
   "id": "12c7d637",
   "metadata": {},
   "outputs": [
    {
     "data": {
      "text/html": [
       "<div>\n",
       "<style scoped>\n",
       "    .dataframe tbody tr th:only-of-type {\n",
       "        vertical-align: middle;\n",
       "    }\n",
       "\n",
       "    .dataframe tbody tr th {\n",
       "        vertical-align: top;\n",
       "    }\n",
       "\n",
       "    .dataframe thead th {\n",
       "        text-align: right;\n",
       "    }\n",
       "</style>\n",
       "<table border=\"1\" class=\"dataframe\">\n",
       "  <thead>\n",
       "    <tr style=\"text-align: right;\">\n",
       "      <th></th>\n",
       "      <th>datetime</th>\n",
       "      <th>timestamp</th>\n",
       "      <th>Count</th>\n",
       "      <th>Open</th>\n",
       "      <th>High</th>\n",
       "      <th>Low</th>\n",
       "      <th>Close</th>\n",
       "      <th>Volume</th>\n",
       "      <th>VWAP</th>\n",
       "      <th>datetime.1</th>\n",
       "    </tr>\n",
       "  </thead>\n",
       "  <tbody>\n",
       "    <tr>\n",
       "      <th>0</th>\n",
       "      <td>2021-01-01 00:00:00</td>\n",
       "      <td>1609459200</td>\n",
       "      <td>2135.0</td>\n",
       "      <td>28950.497500</td>\n",
       "      <td>29024.59</td>\n",
       "      <td>28903.86</td>\n",
       "      <td>28948.192734</td>\n",
       "      <td>117.463121</td>\n",
       "      <td>28952.473085</td>\n",
       "      <td>2021-01-01 00:00:00</td>\n",
       "    </tr>\n",
       "    <tr>\n",
       "      <th>1</th>\n",
       "      <td>2021-01-01 00:01:00</td>\n",
       "      <td>1609459260</td>\n",
       "      <td>4039.0</td>\n",
       "      <td>28985.511250</td>\n",
       "      <td>29086.90</td>\n",
       "      <td>28960.00</td>\n",
       "      <td>29032.387500</td>\n",
       "      <td>163.787036</td>\n",
       "      <td>29017.664870</td>\n",
       "      <td>2021-01-01 00:01:00</td>\n",
       "    </tr>\n",
       "    <tr>\n",
       "      <th>2</th>\n",
       "      <td>2021-01-01 00:02:00</td>\n",
       "      <td>1609459320</td>\n",
       "      <td>1969.0</td>\n",
       "      <td>29031.175000</td>\n",
       "      <td>29079.56</td>\n",
       "      <td>28951.50</td>\n",
       "      <td>29002.956734</td>\n",
       "      <td>98.754670</td>\n",
       "      <td>29014.703526</td>\n",
       "      <td>2021-01-01 00:02:00</td>\n",
       "    </tr>\n",
       "    <tr>\n",
       "      <th>3</th>\n",
       "      <td>2021-01-01 00:03:00</td>\n",
       "      <td>1609459380</td>\n",
       "      <td>1689.0</td>\n",
       "      <td>29002.977509</td>\n",
       "      <td>29069.39</td>\n",
       "      <td>28967.80</td>\n",
       "      <td>29005.580000</td>\n",
       "      <td>55.202131</td>\n",
       "      <td>29003.078663</td>\n",
       "      <td>2021-01-01 00:03:00</td>\n",
       "    </tr>\n",
       "    <tr>\n",
       "      <th>4</th>\n",
       "      <td>2021-01-01 00:04:00</td>\n",
       "      <td>1609459440</td>\n",
       "      <td>1146.0</td>\n",
       "      <td>29004.293750</td>\n",
       "      <td>29057.73</td>\n",
       "      <td>28971.80</td>\n",
       "      <td>29000.490000</td>\n",
       "      <td>56.575903</td>\n",
       "      <td>29006.256629</td>\n",
       "      <td>2021-01-01 00:04:00</td>\n",
       "    </tr>\n",
       "  </tbody>\n",
       "</table>\n",
       "</div>"
      ],
      "text/plain": [
       "              datetime   timestamp   Count          Open      High       Low  \\\n",
       "0  2021-01-01 00:00:00  1609459200  2135.0  28950.497500  29024.59  28903.86   \n",
       "1  2021-01-01 00:01:00  1609459260  4039.0  28985.511250  29086.90  28960.00   \n",
       "2  2021-01-01 00:02:00  1609459320  1969.0  29031.175000  29079.56  28951.50   \n",
       "3  2021-01-01 00:03:00  1609459380  1689.0  29002.977509  29069.39  28967.80   \n",
       "4  2021-01-01 00:04:00  1609459440  1146.0  29004.293750  29057.73  28971.80   \n",
       "\n",
       "          Close      Volume          VWAP           datetime.1  \n",
       "0  28948.192734  117.463121  28952.473085  2021-01-01 00:00:00  \n",
       "1  29032.387500  163.787036  29017.664870  2021-01-01 00:01:00  \n",
       "2  29002.956734   98.754670  29014.703526  2021-01-01 00:02:00  \n",
       "3  29005.580000   55.202131  29003.078663  2021-01-01 00:03:00  \n",
       "4  29000.490000   56.575903  29006.256629  2021-01-01 00:04:00  "
      ]
     },
     "execution_count": 31,
     "metadata": {},
     "output_type": "execute_result"
    }
   ],
   "source": [
    "# directly load clean data for faster training\n",
    "\n",
    "#df = pd.read_csv('s3://msba-crypto-cats-east/sample-lstm/btc_0628.csv') # whole dates\n",
    "\n",
    "df = pd.read_csv(\"s3://msba-crypto-cats-east/sample-lstm/btc_2021.csv\") #2021\n",
    "\n",
    "df.head()"
   ]
  },
  {
   "cell_type": "markdown",
   "id": "942b1235",
   "metadata": {},
   "source": [
    "## Data of 2021"
   ]
  },
  {
   "cell_type": "code",
   "execution_count": 32,
   "id": "49e4f5c5",
   "metadata": {},
   "outputs": [],
   "source": [
    "df.index=df['datetime'] \n",
    "df =df.loc['2021-01-01 00:01:00':'2021-09-21 00:00:00'] # 2021 data"
   ]
  },
  {
   "cell_type": "code",
   "execution_count": 33,
   "id": "ee94da53",
   "metadata": {},
   "outputs": [
    {
     "data": {
      "text/html": [
       "<div>\n",
       "<style scoped>\n",
       "    .dataframe tbody tr th:only-of-type {\n",
       "        vertical-align: middle;\n",
       "    }\n",
       "\n",
       "    .dataframe tbody tr th {\n",
       "        vertical-align: top;\n",
       "    }\n",
       "\n",
       "    .dataframe thead th {\n",
       "        text-align: right;\n",
       "    }\n",
       "</style>\n",
       "<table border=\"1\" class=\"dataframe\">\n",
       "  <thead>\n",
       "    <tr style=\"text-align: right;\">\n",
       "      <th></th>\n",
       "      <th>datetime</th>\n",
       "      <th>timestamp</th>\n",
       "      <th>Count</th>\n",
       "      <th>Open</th>\n",
       "      <th>High</th>\n",
       "      <th>Low</th>\n",
       "      <th>Close</th>\n",
       "      <th>Volume</th>\n",
       "      <th>VWAP</th>\n",
       "      <th>datetime.1</th>\n",
       "    </tr>\n",
       "    <tr>\n",
       "      <th>datetime</th>\n",
       "      <th></th>\n",
       "      <th></th>\n",
       "      <th></th>\n",
       "      <th></th>\n",
       "      <th></th>\n",
       "      <th></th>\n",
       "      <th></th>\n",
       "      <th></th>\n",
       "      <th></th>\n",
       "      <th></th>\n",
       "    </tr>\n",
       "  </thead>\n",
       "  <tbody>\n",
       "    <tr>\n",
       "      <th>2021-01-01 00:01:00</th>\n",
       "      <td>2021-01-01 00:01:00</td>\n",
       "      <td>1609459260</td>\n",
       "      <td>4039.0</td>\n",
       "      <td>28985.511250</td>\n",
       "      <td>29086.90</td>\n",
       "      <td>28960.0</td>\n",
       "      <td>29032.387500</td>\n",
       "      <td>163.787036</td>\n",
       "      <td>29017.664870</td>\n",
       "      <td>2021-01-01 00:01:00</td>\n",
       "    </tr>\n",
       "    <tr>\n",
       "      <th>2021-01-01 00:02:00</th>\n",
       "      <td>2021-01-01 00:02:00</td>\n",
       "      <td>1609459320</td>\n",
       "      <td>1969.0</td>\n",
       "      <td>29031.175000</td>\n",
       "      <td>29079.56</td>\n",
       "      <td>28951.5</td>\n",
       "      <td>29002.956734</td>\n",
       "      <td>98.754670</td>\n",
       "      <td>29014.703526</td>\n",
       "      <td>2021-01-01 00:02:00</td>\n",
       "    </tr>\n",
       "    <tr>\n",
       "      <th>2021-01-01 00:03:00</th>\n",
       "      <td>2021-01-01 00:03:00</td>\n",
       "      <td>1609459380</td>\n",
       "      <td>1689.0</td>\n",
       "      <td>29002.977509</td>\n",
       "      <td>29069.39</td>\n",
       "      <td>28967.8</td>\n",
       "      <td>29005.580000</td>\n",
       "      <td>55.202131</td>\n",
       "      <td>29003.078663</td>\n",
       "      <td>2021-01-01 00:03:00</td>\n",
       "    </tr>\n",
       "    <tr>\n",
       "      <th>2021-01-01 00:04:00</th>\n",
       "      <td>2021-01-01 00:04:00</td>\n",
       "      <td>1609459440</td>\n",
       "      <td>1146.0</td>\n",
       "      <td>29004.293750</td>\n",
       "      <td>29057.73</td>\n",
       "      <td>28971.8</td>\n",
       "      <td>29000.490000</td>\n",
       "      <td>56.575903</td>\n",
       "      <td>29006.256629</td>\n",
       "      <td>2021-01-01 00:04:00</td>\n",
       "    </tr>\n",
       "    <tr>\n",
       "      <th>2021-01-01 00:05:00</th>\n",
       "      <td>2021-01-01 00:05:00</td>\n",
       "      <td>1609459500</td>\n",
       "      <td>2088.0</td>\n",
       "      <td>28994.918934</td>\n",
       "      <td>29031.71</td>\n",
       "      <td>28929.3</td>\n",
       "      <td>28962.285818</td>\n",
       "      <td>70.319136</td>\n",
       "      <td>28972.005783</td>\n",
       "      <td>2021-01-01 00:05:00</td>\n",
       "    </tr>\n",
       "  </tbody>\n",
       "</table>\n",
       "</div>"
      ],
      "text/plain": [
       "                                datetime   timestamp   Count          Open  \\\n",
       "datetime                                                                     \n",
       "2021-01-01 00:01:00  2021-01-01 00:01:00  1609459260  4039.0  28985.511250   \n",
       "2021-01-01 00:02:00  2021-01-01 00:02:00  1609459320  1969.0  29031.175000   \n",
       "2021-01-01 00:03:00  2021-01-01 00:03:00  1609459380  1689.0  29002.977509   \n",
       "2021-01-01 00:04:00  2021-01-01 00:04:00  1609459440  1146.0  29004.293750   \n",
       "2021-01-01 00:05:00  2021-01-01 00:05:00  1609459500  2088.0  28994.918934   \n",
       "\n",
       "                         High      Low         Close      Volume  \\\n",
       "datetime                                                           \n",
       "2021-01-01 00:01:00  29086.90  28960.0  29032.387500  163.787036   \n",
       "2021-01-01 00:02:00  29079.56  28951.5  29002.956734   98.754670   \n",
       "2021-01-01 00:03:00  29069.39  28967.8  29005.580000   55.202131   \n",
       "2021-01-01 00:04:00  29057.73  28971.8  29000.490000   56.575903   \n",
       "2021-01-01 00:05:00  29031.71  28929.3  28962.285818   70.319136   \n",
       "\n",
       "                             VWAP           datetime.1  \n",
       "datetime                                                \n",
       "2021-01-01 00:01:00  29017.664870  2021-01-01 00:01:00  \n",
       "2021-01-01 00:02:00  29014.703526  2021-01-01 00:02:00  \n",
       "2021-01-01 00:03:00  29003.078663  2021-01-01 00:03:00  \n",
       "2021-01-01 00:04:00  29006.256629  2021-01-01 00:04:00  \n",
       "2021-01-01 00:05:00  28972.005783  2021-01-01 00:05:00  "
      ]
     },
     "execution_count": 33,
     "metadata": {},
     "output_type": "execute_result"
    }
   ],
   "source": [
    "df.head()"
   ]
  },
  {
   "cell_type": "markdown",
   "id": "5fa587f8",
   "metadata": {},
   "source": [
    "### Multi-Feature"
   ]
  },
  {
   "cell_type": "markdown",
   "id": "aaee36f0",
   "metadata": {},
   "source": [
    "We create the model by splitting the data set with 80% of train data and 20% of test data, we use 3 features: `Count`, `Close` and `Volume`"
   ]
  },
  {
   "cell_type": "code",
   "execution_count": 46,
   "id": "e15a3acf",
   "metadata": {},
   "outputs": [
    {
     "name": "stdout",
     "output_type": "stream",
     "text": [
      "train shape: (302976, 3)\n",
      "test shape: (75744, 3)\n",
      "X_train shape: (302961, 3)\n",
      "X_test shape: (75744, 3)\n"
     ]
    }
   ],
   "source": [
    "num_shape = round(df.shape[0]*0.8)\n",
    "window = 15\n",
    "train = df.iloc[:num_shape, [2,6,7]].values\n",
    "test = df.iloc[num_shape:, [2,6,7]].values\n",
    "TestingRecords=len(df[num_shape:])\n",
    "\n",
    "df_price = np.vstack((train, test)) #used to stack arrays in sequence vertically (row wise)\n",
    "print(\"train shape:\", train.shape)\n",
    "print(\"test shape:\", test.shape)\n",
    "sc = MinMaxScaler(feature_range = (0, 1))\n",
    "# Previous prices, price on next day, window\n",
    "# Fit the scaler using available training data, then apply the scale to training data.\n",
    "X_train, Y_train = [], []\n",
    "train_scaled = sc.fit_transform(train)\n",
    "\n",
    "for i in range(train.shape[0]-window):\n",
    "    batch = train_scaled[i, :]\n",
    "    X_train.append(batch)\n",
    "    Y_train.append(train_scaled[i+window, 0])\n",
    "X_train = np.stack(X_train)\n",
    "Y_train = np.stack(Y_train)\n",
    "\n",
    "X_test = []\n",
    "Y_test = []\n",
    "test_scaled = sc.fit_transform(df_price[num_shape-window:])\n",
    "\n",
    "for i in range(test.shape[0]):\n",
    "    batch = test_scaled[i, :]\n",
    "    X_test.append(batch)\n",
    "    Y_test.append(train_scaled[i+window, 0])\n",
    "X_test = np.stack(X_test)\n",
    "Y_test = np.stack(Y_test)\n",
    "print(\"X_train shape:\", X_train.shape)\n",
    "print(\"X_test shape:\", X_test.shape)"
   ]
  },
  {
   "cell_type": "markdown",
   "id": "17065762",
   "metadata": {},
   "source": [
    "- Apply the model"
   ]
  },
  {
   "cell_type": "code",
   "execution_count": 47,
   "id": "c30c5e9f",
   "metadata": {},
   "outputs": [
    {
     "data": {
      "text/plain": [
       "XGBRegressor(base_score=0.5, booster='gbtree', colsample_bylevel=1,\n",
       "             colsample_bynode=1, colsample_bytree=1, enable_categorical=False,\n",
       "             gamma=0, gpu_id=-1, importance_type=None,\n",
       "             interaction_constraints='', learning_rate=0.300000012,\n",
       "             max_delta_step=0, max_depth=6, min_child_weight=1, missing=nan,\n",
       "             monotone_constraints='()', n_estimators=100, n_jobs=4,\n",
       "             num_parallel_tree=1, predictor='auto', random_state=0, reg_alpha=0,\n",
       "             reg_lambda=1, scale_pos_weight=1, subsample=1, tree_method='exact',\n",
       "             validate_parameters=1, verbosity=None)"
      ]
     },
     "execution_count": 47,
     "metadata": {},
     "output_type": "execute_result"
    }
   ],
   "source": [
    "model = XGBRegressor()\n",
    "model.fit(X_train, Y_train, verbose=False)"
   ]
  },
  {
   "cell_type": "code",
   "execution_count": 48,
   "id": "96c5083a",
   "metadata": {},
   "outputs": [
    {
     "name": "stdout",
     "output_type": "stream",
     "text": [
      "Results by manual calculation:\n",
      "MAE: 1519.62092776218\n",
      "MSE: 7188982.242149973\n",
      "RMSE: 2681.2277490265487\n"
     ]
    }
   ],
   "source": [
    "# prepare the proper shape for inverse_transform\n",
    "t = np.zeros((len(Y_test),2))\n",
    "\n",
    "# Getting the original price values for testing data\n",
    "yt = np.c_[Y_test,t]\n",
    "orig=sc.inverse_transform(yt)[:,0]\n",
    "\n",
    "# Making predictions on test data\n",
    "predicted_Price = model.predict(X_test)\n",
    "yp = np.c_[predicted_Price,t]\n",
    "predicted_Price=sc.inverse_transform(yp)[:,0]\n",
    "\n",
    "# metrics of the predictions\n",
    "d = predicted_Price - orig\n",
    "mse_f = np.mean(d**2)\n",
    "mae_f = np.mean(abs(d))\n",
    "rmse_f = np.sqrt(mse_f)\n",
    "print(\"Results by manual calculation:\")\n",
    "print(\"MAE:\",mae_f)\n",
    "print(\"MSE:\", mse_f)\n",
    "print(\"RMSE:\", rmse_f)"
   ]
  },
  {
   "cell_type": "code",
   "execution_count": 50,
   "id": "a14a9cb9",
   "metadata": {},
   "outputs": [
    {
     "data": {
      "image/png": "[encoded data removed]",
      "text/plain": [
       "<Figure size 1440x432 with 1 Axes>"
      ]
     },
     "metadata": {
      "needs_background": "light"
     },
     "output_type": "display_data"
    }
   ],
   "source": [
    "x1=predicted_Price[:-1000]\n",
    "x2=orig[:-1000]\n",
    "# Visualising the sampling results\n",
    "plt.plot(x1, color = 'pink', label = 'Predicted Volume')\n",
    "plt.plot(x2, color = 'green', label = 'Original Volume')\n",
    " \n",
    "plt.title('Predicting Bitcoin(2021 historical data) ')\n",
    "plt.xlabel(' Date')\n",
    "plt.ylabel(' Price')\n",
    " \n",
    "plt.legend()\n",
    "fig=plt.gcf()\n",
    "fig.set_figwidth(20)\n",
    "fig.set_figheight(6)\n",
    "plt.show()"
   ]
  },
  {
   "cell_type": "markdown",
   "id": "aab43cc5",
   "metadata": {},
   "source": [
    "## Data of one month"
   ]
  },
  {
   "cell_type": "code",
   "execution_count": 51,
   "id": "c081b90d",
   "metadata": {},
   "outputs": [],
   "source": [
    "df.index=df['datetime'] \n",
    "df1 =df.loc['2021-08-01 00:01:00':'2021-08-31 23:59:59'] # one month"
   ]
  },
  {
   "cell_type": "code",
   "execution_count": 52,
   "id": "abde8ff5",
   "metadata": {},
   "outputs": [
    {
     "data": {
      "text/html": [
       "<div>\n",
       "<style scoped>\n",
       "    .dataframe tbody tr th:only-of-type {\n",
       "        vertical-align: middle;\n",
       "    }\n",
       "\n",
       "    .dataframe tbody tr th {\n",
       "        vertical-align: top;\n",
       "    }\n",
       "\n",
       "    .dataframe thead th {\n",
       "        text-align: right;\n",
       "    }\n",
       "</style>\n",
       "<table border=\"1\" class=\"dataframe\">\n",
       "  <thead>\n",
       "    <tr style=\"text-align: right;\">\n",
       "      <th></th>\n",
       "      <th>datetime</th>\n",
       "      <th>timestamp</th>\n",
       "      <th>Count</th>\n",
       "      <th>Open</th>\n",
       "      <th>High</th>\n",
       "      <th>Low</th>\n",
       "      <th>Close</th>\n",
       "      <th>Volume</th>\n",
       "      <th>VWAP</th>\n",
       "      <th>datetime.1</th>\n",
       "    </tr>\n",
       "    <tr>\n",
       "      <th>datetime</th>\n",
       "      <th></th>\n",
       "      <th></th>\n",
       "      <th></th>\n",
       "      <th></th>\n",
       "      <th></th>\n",
       "      <th></th>\n",
       "      <th></th>\n",
       "      <th></th>\n",
       "      <th></th>\n",
       "      <th></th>\n",
       "    </tr>\n",
       "  </thead>\n",
       "  <tbody>\n",
       "    <tr>\n",
       "      <th>2021-08-01 00:01:00</th>\n",
       "      <td>2021-08-01 00:01:00</td>\n",
       "      <td>1627776060</td>\n",
       "      <td>6259.0</td>\n",
       "      <td>41444.920000</td>\n",
       "      <td>41478.50</td>\n",
       "      <td>41256.309885</td>\n",
       "      <td>41295.751429</td>\n",
       "      <td>190.192685</td>\n",
       "      <td>41350.109262</td>\n",
       "      <td>2021-08-01 00:01:00</td>\n",
       "    </tr>\n",
       "    <tr>\n",
       "      <th>2021-08-01 00:02:00</th>\n",
       "      <td>2021-08-01 00:02:00</td>\n",
       "      <td>1627776120</td>\n",
       "      <td>11909.0</td>\n",
       "      <td>41292.327143</td>\n",
       "      <td>41345.60</td>\n",
       "      <td>41105.000000</td>\n",
       "      <td>41169.534286</td>\n",
       "      <td>638.870283</td>\n",
       "      <td>41208.024665</td>\n",
       "      <td>2021-08-01 00:02:00</td>\n",
       "    </tr>\n",
       "    <tr>\n",
       "      <th>2021-08-01 00:03:00</th>\n",
       "      <td>2021-08-01 00:03:00</td>\n",
       "      <td>1627776180</td>\n",
       "      <td>5532.0</td>\n",
       "      <td>41165.252500</td>\n",
       "      <td>41325.73</td>\n",
       "      <td>41131.000000</td>\n",
       "      <td>41272.851250</td>\n",
       "      <td>441.032651</td>\n",
       "      <td>41224.606365</td>\n",
       "      <td>2021-08-01 00:03:00</td>\n",
       "    </tr>\n",
       "    <tr>\n",
       "      <th>2021-08-01 00:04:00</th>\n",
       "      <td>2021-08-01 00:04:00</td>\n",
       "      <td>1627776240</td>\n",
       "      <td>3551.0</td>\n",
       "      <td>41301.122857</td>\n",
       "      <td>41383.10</td>\n",
       "      <td>41277.740000</td>\n",
       "      <td>41358.837143</td>\n",
       "      <td>223.527657</td>\n",
       "      <td>41332.179987</td>\n",
       "      <td>2021-08-01 00:04:00</td>\n",
       "    </tr>\n",
       "    <tr>\n",
       "      <th>2021-08-01 00:05:00</th>\n",
       "      <td>2021-08-01 00:05:00</td>\n",
       "      <td>1627776300</td>\n",
       "      <td>6635.0</td>\n",
       "      <td>41362.957143</td>\n",
       "      <td>41569.38</td>\n",
       "      <td>41339.990000</td>\n",
       "      <td>41526.921429</td>\n",
       "      <td>502.113670</td>\n",
       "      <td>41451.623090</td>\n",
       "      <td>2021-08-01 00:05:00</td>\n",
       "    </tr>\n",
       "  </tbody>\n",
       "</table>\n",
       "</div>"
      ],
      "text/plain": [
       "                                datetime   timestamp    Count          Open  \\\n",
       "datetime                                                                      \n",
       "2021-08-01 00:01:00  2021-08-01 00:01:00  1627776060   6259.0  41444.920000   \n",
       "2021-08-01 00:02:00  2021-08-01 00:02:00  1627776120  11909.0  41292.327143   \n",
       "2021-08-01 00:03:00  2021-08-01 00:03:00  1627776180   5532.0  41165.252500   \n",
       "2021-08-01 00:04:00  2021-08-01 00:04:00  1627776240   3551.0  41301.122857   \n",
       "2021-08-01 00:05:00  2021-08-01 00:05:00  1627776300   6635.0  41362.957143   \n",
       "\n",
       "                         High           Low         Close      Volume  \\\n",
       "datetime                                                                \n",
       "2021-08-01 00:01:00  41478.50  41256.309885  41295.751429  190.192685   \n",
       "2021-08-01 00:02:00  41345.60  41105.000000  41169.534286  638.870283   \n",
       "2021-08-01 00:03:00  41325.73  41131.000000  41272.851250  441.032651   \n",
       "2021-08-01 00:04:00  41383.10  41277.740000  41358.837143  223.527657   \n",
       "2021-08-01 00:05:00  41569.38  41339.990000  41526.921429  502.113670   \n",
       "\n",
       "                             VWAP           datetime.1  \n",
       "datetime                                                \n",
       "2021-08-01 00:01:00  41350.109262  2021-08-01 00:01:00  \n",
       "2021-08-01 00:02:00  41208.024665  2021-08-01 00:02:00  \n",
       "2021-08-01 00:03:00  41224.606365  2021-08-01 00:03:00  \n",
       "2021-08-01 00:04:00  41332.179987  2021-08-01 00:04:00  \n",
       "2021-08-01 00:05:00  41451.623090  2021-08-01 00:05:00  "
      ]
     },
     "execution_count": 52,
     "metadata": {},
     "output_type": "execute_result"
    }
   ],
   "source": [
    "df1.head()"
   ]
  },
  {
   "cell_type": "code",
   "execution_count": 53,
   "id": "c1a08b18",
   "metadata": {},
   "outputs": [
    {
     "name": "stdout",
     "output_type": "stream",
     "text": [
      "train1 shape: (35711, 3)\n",
      "test1 shape: (8928, 3)\n",
      "X_train1 shape: (35696, 3)\n",
      "X_test1 shape: (8928, 3)\n"
     ]
    }
   ],
   "source": [
    "num_shape1 = round(df1.shape[0]*0.8)\n",
    "window = 15\n",
    "train1 = df1.iloc[:num_shape1, [2,6,7]].values\n",
    "test1 = df1.iloc[num_shape1:, [2,6,7]].values\n",
    "TestingRecords=len(df1[num_shape1:])\n",
    "\n",
    "df1_price = np.vstack((train1, test1))\n",
    "print(\"train1 shape:\", train1.shape)\n",
    "print(\"test1 shape:\", test1.shape)\n",
    "sc = MinMaxScaler(feature_range = (0, 1))\n",
    "# Previous prices, price on next day, window\n",
    "X_train1, Y_train1 = [], []\n",
    "train_scaled1 = sc.fit_transform(train1)\n",
    "\n",
    "for i in range(train1.shape[0]-window):\n",
    "    batch = train_scaled1[i, :]\n",
    "    X_train1.append(batch)\n",
    "    Y_train1.append(train_scaled1[i+window, 0])\n",
    "X_train1 = np.stack(X_train1)\n",
    "Y_train1 = np.stack(Y_train1)\n",
    "\n",
    "X_test1 = []\n",
    "Y_test1 = []\n",
    "test_scaled1 = sc.fit_transform(df1_price[num_shape1-window:])\n",
    "\n",
    "for i in range(test1.shape[0]):\n",
    "    batch = test_scaled1[i, :]\n",
    "    X_test1.append(batch)\n",
    "    Y_test1.append(train_scaled1[i+window, 0])\n",
    "X_test1 = np.stack(X_test1)\n",
    "Y_test1 = np.stack(Y_test1)\n",
    "print(\"X_train1 shape:\", X_train1.shape)\n",
    "print(\"X_test1 shape:\", X_test1.shape)"
   ]
  },
  {
   "cell_type": "code",
   "execution_count": null,
   "id": "1b86d164",
   "metadata": {},
   "outputs": [],
   "source": [
    "model1 = XGBRegressor(n_estimators=1000)\n",
    "model1.fit(X_train1, Y_train1, verbose=False)"
   ]
  },
  {
   "cell_type": "code",
   "execution_count": 55,
   "id": "51d8257f",
   "metadata": {},
   "outputs": [
    {
     "name": "stdout",
     "output_type": "stream",
     "text": [
      "Results by manual calculation:\n",
      "MAE: 516.1102363618749\n",
      "MSE: 721361.016670949\n",
      "RMSE: 849.3297455470101\n"
     ]
    }
   ],
   "source": [
    "# prepare the proper shape for inverse_transform\n",
    "t = np.zeros((len(Y_test1),2))\n",
    "\n",
    "# Getting the original price values for testing data\n",
    "yt = np.c_[Y_test1,t]\n",
    "orig1=sc.inverse_transform(yt)[:,0]\n",
    "\n",
    "# Making predictions on test data\n",
    "predicted_Price1 = model1.predict(X_test1)\n",
    "yp = np.c_[predicted_Price1,t]\n",
    "predicted_Price1=sc.inverse_transform(yp)[:,0]\n",
    "\n",
    "# metrics of the predictions\n",
    "d = predicted_Price1 - orig1\n",
    "mse_f = np.mean(d**2)\n",
    "mae_f = np.mean(abs(d))\n",
    "rmse_f = np.sqrt(mse_f)\n",
    "print(\"Results by manual calculation:\")\n",
    "print(\"MAE:\",mae_f)\n",
    "print(\"MSE:\", mse_f)\n",
    "print(\"RMSE:\", rmse_f)"
   ]
  },
  {
   "cell_type": "code",
   "execution_count": 56,
   "id": "bb10be70",
   "metadata": {},
   "outputs": [
    {
     "data": {
      "image/png": "[encoded data removed]",
      "text/plain": [
       "<Figure size 1440x432 with 1 Axes>"
      ]
     },
     "metadata": {
      "needs_background": "light"
     },
     "output_type": "display_data"
    }
   ],
   "source": [
    "x1=predicted_Price1[:-1000]\n",
    "x2=orig1[:-1000]\n",
    "# Visualising the sampling results\n",
    "plt.plot(x1, color = 'pink', label = 'Predicted Volume')\n",
    "plt.plot(x2, color = 'green', label = 'Original Volume')\n",
    " \n",
    "plt.title('Predicting Bitcoin (One Month historical data) ')\n",
    "plt.xlabel(' Date')\n",
    "plt.ylabel(' Price')\n",
    " \n",
    "plt.legend()\n",
    "fig=plt.gcf()\n",
    "fig.set_figwidth(20)\n",
    "fig.set_figheight(6)\n",
    "plt.show()"
   ]
  },
  {
   "cell_type": "markdown",
   "id": "6769dca0",
   "metadata": {},
   "source": [
    "- MSE (Mean Squared Error) represents the difference between the original and predicted values which are extracted by squaring the average difference over the data set. It is a measure of how close a fitted line is to actual data points. The lesser the Mean Squared Error, the closer the fit is to the data set. \n",
    "- We got a high MSE when using whole historical data in 2021 while MSE is lower when using historical data in one month, this case we used data in august 2021. Thus, we should use data of one month to have a better prediction of the Bitcoin's price. \n",
    "- Next step we will try other different models to find the model with best MSE to decide which model is the best for Bitcoin's prediction."
   ]
  },
  {
   "cell_type": "markdown",
   "id": "fba56b55",
   "metadata": {},
   "source": [
    "Approaches                         | Best Test MSE         | \n",
    "-----------------------------------|-----------------------|\n",
    "Multi-features (2021)              | 7188982.24            |                    \n",
    "**Multi-features (one month)**     | **721361.01**         |                          "
   ]
  },
  {
   "cell_type": "code",
   "execution_count": null,
   "id": "93fb0560",
   "metadata": {},
   "outputs": [],
   "source": []
  }
 ],
 "metadata": {
  "kernelspec": {
   "display_name": "conda_python3",
   "language": "python",
   "name": "conda_python3"
  },
  "language_info": {
   "codemirror_mode": {
    "name": "ipython",
    "version": 3
   },
   "file_extension": ".py",
   "mimetype": "text/x-python",
   "name": "python",
   "nbconvert_exporter": "python",
   "pygments_lexer": "ipython3",
   "version": "3.6.13"
  }
 },
 "nbformat": 4,
 "nbformat_minor": 5
}
