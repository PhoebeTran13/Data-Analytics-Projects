{
 "cells": [
  {
   "cell_type": "markdown",
   "id": "cf241dc3",
   "metadata": {},
   "source": [
    "# CRYPTO FORECASTING USING MACHINE LEARNING MODELS\n",
    "## Phoebe Tran\n",
    "\n",
    "- Data source: https://www.kaggle.com/competitions/g-research-crypto-forecasting/data\n",
    "\n",
    "\n",
    "Project's Objectives<br>\n",
    "In this project, we will use machine learning expertise to predict the *close price* of bitcoin for the next 15 minutes so we can help our clients to make important decisions. For this task we will try different models in order to find the best one."
   ]
  },
  {
   "cell_type": "markdown",
   "id": "6e4a0676",
   "metadata": {},
   "source": [
    "## *LINEAR REGRESSION MODEL"
   ]
  },
  {
   "cell_type": "markdown",
   "id": "ab659adc",
   "metadata": {},
   "source": [
    "## 1. Importing libraries\n",
    "We first import required librabies"
   ]
  },
  {
   "cell_type": "code",
   "execution_count": 1,
   "id": "f00c4a95",
   "metadata": {},
   "outputs": [],
   "source": [
    "import pandas as pd\n",
    "import numpy as np\n",
    "import math\n",
    "import matplotlib.pyplot as plt\n",
    "from sklearn.model_selection import train_test_split\n",
    "from sklearn.linear_model import LinearRegression\n",
    "from sklearn.preprocessing import StandardScaler\n",
    "from sklearn.preprocessing import MinMaxScaler\n",
    "from sklearn.metrics import mean_squared_error\n",
    "from pandas import read_csv\n",
    "from matplotlib import pyplot\n",
    "import matplotlib.dates as mdates\n",
    "from datetime import datetime\n",
    "from datetime import datetime\n",
    "import datetime as dt\n",
    "import time"
   ]
  },
  {
   "cell_type": "markdown",
   "id": "d5387e56",
   "metadata": {},
   "source": [
    "## 2. Loading original dataset\n",
    "We downloaded the data from Kaggle and unzipped it, let's load it into our notebook now."
   ]
  },
  {
   "cell_type": "code",
   "execution_count": 2,
   "id": "93ad60d0",
   "metadata": {},
   "outputs": [
    {
     "data": {
      "text/html": [
       "<div>\n",
       "<style scoped>\n",
       "    .dataframe tbody tr th:only-of-type {\n",
       "        vertical-align: middle;\n",
       "    }\n",
       "\n",
       "    .dataframe tbody tr th {\n",
       "        vertical-align: top;\n",
       "    }\n",
       "\n",
       "    .dataframe thead th {\n",
       "        text-align: right;\n",
       "    }\n",
       "</style>\n",
       "<table border=\"1\" class=\"dataframe\">\n",
       "  <thead>\n",
       "    <tr style=\"text-align: right;\">\n",
       "      <th></th>\n",
       "      <th>timestamp</th>\n",
       "      <th>Asset_ID</th>\n",
       "      <th>Count</th>\n",
       "      <th>Open</th>\n",
       "      <th>High</th>\n",
       "      <th>Low</th>\n",
       "      <th>Close</th>\n",
       "      <th>Volume</th>\n",
       "      <th>VWAP</th>\n",
       "      <th>Target</th>\n",
       "    </tr>\n",
       "  </thead>\n",
       "  <tbody>\n",
       "    <tr>\n",
       "      <th>0</th>\n",
       "      <td>1514764860</td>\n",
       "      <td>2</td>\n",
       "      <td>40.0</td>\n",
       "      <td>2376.580000</td>\n",
       "      <td>2399.5000</td>\n",
       "      <td>2357.1400</td>\n",
       "      <td>2374.590000</td>\n",
       "      <td>19.233005</td>\n",
       "      <td>2373.116392</td>\n",
       "      <td>-0.004218</td>\n",
       "    </tr>\n",
       "    <tr>\n",
       "      <th>1</th>\n",
       "      <td>1514764860</td>\n",
       "      <td>0</td>\n",
       "      <td>5.0</td>\n",
       "      <td>8.530000</td>\n",
       "      <td>8.5300</td>\n",
       "      <td>8.5300</td>\n",
       "      <td>8.530000</td>\n",
       "      <td>78.380000</td>\n",
       "      <td>8.530000</td>\n",
       "      <td>-0.014399</td>\n",
       "    </tr>\n",
       "    <tr>\n",
       "      <th>2</th>\n",
       "      <td>1514764860</td>\n",
       "      <td>1</td>\n",
       "      <td>229.0</td>\n",
       "      <td>13835.194000</td>\n",
       "      <td>14013.8000</td>\n",
       "      <td>13666.1100</td>\n",
       "      <td>13850.176000</td>\n",
       "      <td>31.550062</td>\n",
       "      <td>13827.062093</td>\n",
       "      <td>-0.014643</td>\n",
       "    </tr>\n",
       "    <tr>\n",
       "      <th>3</th>\n",
       "      <td>1514764860</td>\n",
       "      <td>5</td>\n",
       "      <td>32.0</td>\n",
       "      <td>7.659600</td>\n",
       "      <td>7.6596</td>\n",
       "      <td>7.6567</td>\n",
       "      <td>7.657600</td>\n",
       "      <td>6626.713370</td>\n",
       "      <td>7.657713</td>\n",
       "      <td>-0.013922</td>\n",
       "    </tr>\n",
       "    <tr>\n",
       "      <th>4</th>\n",
       "      <td>1514764860</td>\n",
       "      <td>7</td>\n",
       "      <td>5.0</td>\n",
       "      <td>25.920000</td>\n",
       "      <td>25.9200</td>\n",
       "      <td>25.8740</td>\n",
       "      <td>25.877000</td>\n",
       "      <td>121.087310</td>\n",
       "      <td>25.891363</td>\n",
       "      <td>-0.008264</td>\n",
       "    </tr>\n",
       "    <tr>\n",
       "      <th>5</th>\n",
       "      <td>1514764860</td>\n",
       "      <td>6</td>\n",
       "      <td>173.0</td>\n",
       "      <td>738.302500</td>\n",
       "      <td>746.0000</td>\n",
       "      <td>732.5100</td>\n",
       "      <td>738.507500</td>\n",
       "      <td>335.987856</td>\n",
       "      <td>738.839291</td>\n",
       "      <td>-0.004809</td>\n",
       "    </tr>\n",
       "    <tr>\n",
       "      <th>6</th>\n",
       "      <td>1514764860</td>\n",
       "      <td>9</td>\n",
       "      <td>167.0</td>\n",
       "      <td>225.330000</td>\n",
       "      <td>227.7800</td>\n",
       "      <td>222.9800</td>\n",
       "      <td>225.206667</td>\n",
       "      <td>411.896642</td>\n",
       "      <td>225.197944</td>\n",
       "      <td>-0.009791</td>\n",
       "    </tr>\n",
       "    <tr>\n",
       "      <th>7</th>\n",
       "      <td>1514764860</td>\n",
       "      <td>11</td>\n",
       "      <td>7.0</td>\n",
       "      <td>329.090000</td>\n",
       "      <td>329.8800</td>\n",
       "      <td>329.0900</td>\n",
       "      <td>329.460000</td>\n",
       "      <td>6.635710</td>\n",
       "      <td>329.454118</td>\n",
       "      <td>NaN</td>\n",
       "    </tr>\n",
       "    <tr>\n",
       "      <th>8</th>\n",
       "      <td>1514764920</td>\n",
       "      <td>2</td>\n",
       "      <td>53.0</td>\n",
       "      <td>2374.553333</td>\n",
       "      <td>2400.9000</td>\n",
       "      <td>2354.2000</td>\n",
       "      <td>2372.286667</td>\n",
       "      <td>24.050259</td>\n",
       "      <td>2371.434498</td>\n",
       "      <td>-0.004079</td>\n",
       "    </tr>\n",
       "    <tr>\n",
       "      <th>9</th>\n",
       "      <td>1514764920</td>\n",
       "      <td>0</td>\n",
       "      <td>7.0</td>\n",
       "      <td>8.530000</td>\n",
       "      <td>8.5300</td>\n",
       "      <td>8.5145</td>\n",
       "      <td>8.514500</td>\n",
       "      <td>71.390000</td>\n",
       "      <td>8.520215</td>\n",
       "      <td>-0.015875</td>\n",
       "    </tr>\n",
       "  </tbody>\n",
       "</table>\n",
       "</div>"
      ],
      "text/plain": [
       "    timestamp  Asset_ID  Count          Open        High         Low  \\\n",
       "0  1514764860         2   40.0   2376.580000   2399.5000   2357.1400   \n",
       "1  1514764860         0    5.0      8.530000      8.5300      8.5300   \n",
       "2  1514764860         1  229.0  13835.194000  14013.8000  13666.1100   \n",
       "3  1514764860         5   32.0      7.659600      7.6596      7.6567   \n",
       "4  1514764860         7    5.0     25.920000     25.9200     25.8740   \n",
       "5  1514764860         6  173.0    738.302500    746.0000    732.5100   \n",
       "6  1514764860         9  167.0    225.330000    227.7800    222.9800   \n",
       "7  1514764860        11    7.0    329.090000    329.8800    329.0900   \n",
       "8  1514764920         2   53.0   2374.553333   2400.9000   2354.2000   \n",
       "9  1514764920         0    7.0      8.530000      8.5300      8.5145   \n",
       "\n",
       "          Close       Volume          VWAP    Target  \n",
       "0   2374.590000    19.233005   2373.116392 -0.004218  \n",
       "1      8.530000    78.380000      8.530000 -0.014399  \n",
       "2  13850.176000    31.550062  13827.062093 -0.014643  \n",
       "3      7.657600  6626.713370      7.657713 -0.013922  \n",
       "4     25.877000   121.087310     25.891363 -0.008264  \n",
       "5    738.507500   335.987856    738.839291 -0.004809  \n",
       "6    225.206667   411.896642    225.197944 -0.009791  \n",
       "7    329.460000     6.635710    329.454118       NaN  \n",
       "8   2372.286667    24.050259   2371.434498 -0.004079  \n",
       "9      8.514500    71.390000      8.520215 -0.015875  "
      ]
     },
     "execution_count": 2,
     "metadata": {},
     "output_type": "execute_result"
    }
   ],
   "source": [
    "crypto_df = pd.read_csv('s3://msba-crypto-cats-east/train.csv')\n",
    "crypto_df.head(10)"
   ]
  },
  {
   "cell_type": "code",
   "execution_count": 3,
   "id": "d37c9151",
   "metadata": {},
   "outputs": [
    {
     "data": {
      "text/plain": [
       "(24236806, 10)"
      ]
     },
     "execution_count": 3,
     "metadata": {},
     "output_type": "execute_result"
    }
   ],
   "source": [
    "crypto_df.shape"
   ]
  },
  {
   "cell_type": "markdown",
   "id": "5ba5646f",
   "metadata": {},
   "source": [
    "There are 24236806 records and 10 columns. We will extract bitcoin data from it with following features:\n",
    "\n",
    "- *timestamp*: All timestamps are returned as second Unix timestamps (the number of seconds elapsed since 1970-01-01 00:00:00.000 UTC). Timestamps in this dataset are multiple of 60, indicating minute-by-minute data.\n",
    "- *Asset_ID*: The asset ID corresponding to one of the crytocurrencies (e.g. Asset_ID = 1 for Bitcoin).\n",
    "- *Count*: Total number of trades in the time interval (last minute).\n",
    "- *Open*: Opening price of the time interval (in USD).\n",
    "- *High*: Highest price reached during time interval (in USD).\n",
    "- *Low*: Lowest price reached during time interval (in USD).\n",
    "- *Close*: Closing price of the time interval (in USD).\n",
    "- *Volume*: Quantity of asset bought or sold, displayed in base currency USD.\n",
    "- *VWAP*: The average price of the asset over the time interval, weighted by volume. VWAP is an aggregated form of trade data.\n",
    "- *Target*: Residual log-returns for the asset over a 15 minute horizon.\n",
    "\n",
    "The first two columns define the time and asset indexes for this data row. The 6 middle columns are feature columns with the trading data for this asset and minute in time. The last column is the prediction target. We will extract bitcoin data and use that dataset for this project."
   ]
  },
  {
   "cell_type": "code",
   "execution_count": 4,
   "id": "3c5a2a6d",
   "metadata": {},
   "outputs": [
    {
     "name": "stdout",
     "output_type": "stream",
     "text": [
      "(1956282, 7)\n"
     ]
    },
    {
     "data": {
      "text/html": [
       "<div>\n",
       "<style scoped>\n",
       "    .dataframe tbody tr th:only-of-type {\n",
       "        vertical-align: middle;\n",
       "    }\n",
       "\n",
       "    .dataframe tbody tr th {\n",
       "        vertical-align: top;\n",
       "    }\n",
       "\n",
       "    .dataframe thead th {\n",
       "        text-align: right;\n",
       "    }\n",
       "</style>\n",
       "<table border=\"1\" class=\"dataframe\">\n",
       "  <thead>\n",
       "    <tr style=\"text-align: right;\">\n",
       "      <th></th>\n",
       "      <th>Count</th>\n",
       "      <th>Open</th>\n",
       "      <th>High</th>\n",
       "      <th>Low</th>\n",
       "      <th>Close</th>\n",
       "      <th>Volume</th>\n",
       "      <th>VWAP</th>\n",
       "    </tr>\n",
       "    <tr>\n",
       "      <th>timestamp</th>\n",
       "      <th></th>\n",
       "      <th></th>\n",
       "      <th></th>\n",
       "      <th></th>\n",
       "      <th></th>\n",
       "      <th></th>\n",
       "      <th></th>\n",
       "    </tr>\n",
       "  </thead>\n",
       "  <tbody>\n",
       "    <tr>\n",
       "      <th>1514764860</th>\n",
       "      <td>229.0</td>\n",
       "      <td>13835.194</td>\n",
       "      <td>14013.8</td>\n",
       "      <td>13666.11</td>\n",
       "      <td>13850.176</td>\n",
       "      <td>31.550062</td>\n",
       "      <td>13827.062093</td>\n",
       "    </tr>\n",
       "    <tr>\n",
       "      <th>1514764920</th>\n",
       "      <td>235.0</td>\n",
       "      <td>13835.036</td>\n",
       "      <td>14052.3</td>\n",
       "      <td>13680.00</td>\n",
       "      <td>13828.102</td>\n",
       "      <td>31.046432</td>\n",
       "      <td>13840.362591</td>\n",
       "    </tr>\n",
       "    <tr>\n",
       "      <th>1514764980</th>\n",
       "      <td>528.0</td>\n",
       "      <td>13823.900</td>\n",
       "      <td>14000.4</td>\n",
       "      <td>13601.00</td>\n",
       "      <td>13801.314</td>\n",
       "      <td>55.061820</td>\n",
       "      <td>13806.068014</td>\n",
       "    </tr>\n",
       "    <tr>\n",
       "      <th>1514765040</th>\n",
       "      <td>435.0</td>\n",
       "      <td>13802.512</td>\n",
       "      <td>13999.0</td>\n",
       "      <td>13576.28</td>\n",
       "      <td>13768.040</td>\n",
       "      <td>38.780529</td>\n",
       "      <td>13783.598101</td>\n",
       "    </tr>\n",
       "    <tr>\n",
       "      <th>1514765100</th>\n",
       "      <td>742.0</td>\n",
       "      <td>13766.000</td>\n",
       "      <td>13955.9</td>\n",
       "      <td>13554.44</td>\n",
       "      <td>13724.914</td>\n",
       "      <td>108.501637</td>\n",
       "      <td>13735.586842</td>\n",
       "    </tr>\n",
       "  </tbody>\n",
       "</table>\n",
       "</div>"
      ],
      "text/plain": [
       "            Count       Open     High       Low      Close      Volume  \\\n",
       "timestamp                                                                \n",
       "1514764860  229.0  13835.194  14013.8  13666.11  13850.176   31.550062   \n",
       "1514764920  235.0  13835.036  14052.3  13680.00  13828.102   31.046432   \n",
       "1514764980  528.0  13823.900  14000.4  13601.00  13801.314   55.061820   \n",
       "1514765040  435.0  13802.512  13999.0  13576.28  13768.040   38.780529   \n",
       "1514765100  742.0  13766.000  13955.9  13554.44  13724.914  108.501637   \n",
       "\n",
       "                    VWAP  \n",
       "timestamp                 \n",
       "1514764860  13827.062093  \n",
       "1514764920  13840.362591  \n",
       "1514764980  13806.068014  \n",
       "1514765040  13783.598101  \n",
       "1514765100  13735.586842  "
      ]
     },
     "execution_count": 4,
     "metadata": {},
     "output_type": "execute_result"
    }
   ],
   "source": [
    "btc = crypto_df[crypto_df[\"Asset_ID\"]==1].set_index(\"timestamp\") # Asset_ID = 1 for Bitcoin\n",
    "btc = btc.loc[0:,\"Count\":\"VWAP\"]\n",
    "print(btc.shape)\n",
    "btc.head()"
   ]
  },
  {
   "cell_type": "markdown",
   "id": "4cb36edf",
   "metadata": {},
   "source": [
    "## 3. Preprocessing"
   ]
  },
  {
   "cell_type": "markdown",
   "id": "c2d28cec",
   "metadata": {},
   "source": [
    "- Show the time range using the coversion from timestamp to datetime"
   ]
  },
  {
   "cell_type": "code",
   "execution_count": 5,
   "id": "85c1f8d4",
   "metadata": {},
   "outputs": [
    {
     "name": "stdout",
     "output_type": "stream",
     "text": [
      "BTC data goes from  2018-01-01T00:01:00 to  2021-09-21T00:00:00\n"
     ]
    }
   ],
   "source": [
    "beg_btc = btc.index[0].astype('datetime64[s]')\n",
    "end_btc = btc.index[-1].astype('datetime64[s]')\n",
    "print('BTC data goes from ', beg_btc, 'to ', end_btc)"
   ]
  },
  {
   "cell_type": "markdown",
   "id": "25414365",
   "metadata": {},
   "source": [
    "- Checking missing data and Dealing with time gaps"
   ]
  },
  {
   "cell_type": "code",
   "execution_count": 6,
   "id": "e6f74210",
   "metadata": {},
   "outputs": [
    {
     "name": "stdout",
     "output_type": "stream",
     "text": [
      "<class 'pandas.core.frame.DataFrame'>\n",
      "Int64Index: 1956282 entries, 1514764860 to 1632182400\n",
      "Data columns (total 7 columns):\n",
      " #   Column  Dtype  \n",
      "---  ------  -----  \n",
      " 0   Count   float64\n",
      " 1   Open    float64\n",
      " 2   High    float64\n",
      " 3   Low     float64\n",
      " 4   Close   float64\n",
      " 5   Volume  float64\n",
      " 6   VWAP    float64\n",
      "dtypes: float64(7)\n",
      "memory usage: 119.4 MB\n"
     ]
    }
   ],
   "source": [
    "btc.info()"
   ]
  },
  {
   "cell_type": "markdown",
   "id": "1d8bf202",
   "metadata": {},
   "source": [
    "We can see the number of rows in the training set, and that there are missing values for the targets columns, we will confirm by using \"isna\" function:"
   ]
  },
  {
   "cell_type": "code",
   "execution_count": 7,
   "id": "a28dc0cc",
   "metadata": {},
   "outputs": [
    {
     "data": {
      "text/plain": [
       "Count     0\n",
       "Open      0\n",
       "High      0\n",
       "Low       0\n",
       "Close     0\n",
       "Volume    0\n",
       "VWAP      0\n",
       "dtype: int64"
      ]
     },
     "execution_count": 7,
     "metadata": {},
     "output_type": "execute_result"
    }
   ],
   "source": [
    "btc.isna().sum()"
   ]
  },
  {
   "cell_type": "markdown",
   "id": "0fb98ec0",
   "metadata": {},
   "source": [
    "Missing  data represented by NaN, but instead by the absence of those rows. We can check the timestamp difference between consecutive rows to see if there is missing data:"
   ]
  },
  {
   "cell_type": "code",
   "execution_count": 8,
   "id": "3a4d403b",
   "metadata": {},
   "outputs": [
    {
     "data": {
      "text/plain": [
       "60     1956136\n",
       "120         78\n",
       "180         12\n",
       "240         11\n",
       "420          9\n",
       "Name: timestamp, dtype: int64"
      ]
     },
     "execution_count": 8,
     "metadata": {},
     "output_type": "execute_result"
    }
   ],
   "source": [
    "(btc.index[1:]-btc.index[:-1]).value_counts().head(5)"
   ]
  },
  {
   "cell_type": "markdown",
   "id": "0a8f2d15",
   "metadata": {},
   "source": [
    "There are several time gaps in the data. To work with most time series models, we should preprocess our data into a format without time gaps. This will be similar with LSTM model, we will use the `.reindex()` method for forward filling, filling gaps with the previous valid value. "
   ]
  },
  {
   "cell_type": "code",
   "execution_count": 10,
   "id": "eb12ba17",
   "metadata": {},
   "outputs": [
    {
     "data": {
      "text/plain": [
       "60    1956959\n",
       "Name: timestamp, dtype: int64"
      ]
     },
     "execution_count": 10,
     "metadata": {},
     "output_type": "execute_result"
    }
   ],
   "source": [
    "btc = btc.reindex(range(btc.index[0],btc.index[-1]+60,60),method='pad')\n",
    "(btc.index[1:]-btc.index[:-1]).value_counts().head()"
   ]
  },
  {
   "cell_type": "markdown",
   "id": "b57fc065",
   "metadata": {},
   "source": [
    "Now we have dataset without time gap, next step is to save the file as cvs then we will use that cleaned dataset to move to next steps."
   ]
  },
  {
   "cell_type": "code",
   "execution_count": 11,
   "id": "c3731af4",
   "metadata": {},
   "outputs": [],
   "source": [
    "# save the cleaned data\n",
    "#btc.to_csv(\"s3://msba-crypto-cats-east/baseline/btc_0628.csv\")"
   ]
  },
  {
   "cell_type": "markdown",
   "id": "98f1ac50",
   "metadata": {},
   "source": [
    "## 4. Loading dataset"
   ]
  },
  {
   "cell_type": "code",
   "execution_count": 12,
   "id": "54b9247f",
   "metadata": {},
   "outputs": [],
   "source": [
    "bitcoin = pd.read_csv(\"s3://msba-crypto-cats-east/baseline/btc_0628.csv\")"
   ]
  },
  {
   "cell_type": "markdown",
   "id": "a2835464",
   "metadata": {},
   "source": [
    "## 5. Exploring the dataset"
   ]
  },
  {
   "cell_type": "markdown",
   "id": "d505a05f",
   "metadata": {},
   "source": [
    "- Print the shape of the dataset"
   ]
  },
  {
   "cell_type": "code",
   "execution_count": 13,
   "id": "d65ffd3c",
   "metadata": {},
   "outputs": [
    {
     "data": {
      "text/plain": [
       "(1956960, 8)"
      ]
     },
     "execution_count": 13,
     "metadata": {},
     "output_type": "execute_result"
    }
   ],
   "source": [
    "bitcoin.shape"
   ]
  },
  {
   "cell_type": "markdown",
   "id": "6ea77d6e",
   "metadata": {},
   "source": [
    "- Print the head of the dataset"
   ]
  },
  {
   "cell_type": "code",
   "execution_count": 14,
   "id": "67d022f2",
   "metadata": {},
   "outputs": [
    {
     "data": {
      "text/html": [
       "<div>\n",
       "<style scoped>\n",
       "    .dataframe tbody tr th:only-of-type {\n",
       "        vertical-align: middle;\n",
       "    }\n",
       "\n",
       "    .dataframe tbody tr th {\n",
       "        vertical-align: top;\n",
       "    }\n",
       "\n",
       "    .dataframe thead th {\n",
       "        text-align: right;\n",
       "    }\n",
       "</style>\n",
       "<table border=\"1\" class=\"dataframe\">\n",
       "  <thead>\n",
       "    <tr style=\"text-align: right;\">\n",
       "      <th></th>\n",
       "      <th>timestamp</th>\n",
       "      <th>Count</th>\n",
       "      <th>Open</th>\n",
       "      <th>High</th>\n",
       "      <th>Low</th>\n",
       "      <th>Close</th>\n",
       "      <th>Volume</th>\n",
       "      <th>VWAP</th>\n",
       "    </tr>\n",
       "  </thead>\n",
       "  <tbody>\n",
       "    <tr>\n",
       "      <th>0</th>\n",
       "      <td>1514764860</td>\n",
       "      <td>229.0</td>\n",
       "      <td>13835.194</td>\n",
       "      <td>14013.8</td>\n",
       "      <td>13666.11</td>\n",
       "      <td>13850.176</td>\n",
       "      <td>31.550062</td>\n",
       "      <td>13827.062093</td>\n",
       "    </tr>\n",
       "    <tr>\n",
       "      <th>1</th>\n",
       "      <td>1514764920</td>\n",
       "      <td>235.0</td>\n",
       "      <td>13835.036</td>\n",
       "      <td>14052.3</td>\n",
       "      <td>13680.00</td>\n",
       "      <td>13828.102</td>\n",
       "      <td>31.046432</td>\n",
       "      <td>13840.362591</td>\n",
       "    </tr>\n",
       "    <tr>\n",
       "      <th>2</th>\n",
       "      <td>1514764980</td>\n",
       "      <td>528.0</td>\n",
       "      <td>13823.900</td>\n",
       "      <td>14000.4</td>\n",
       "      <td>13601.00</td>\n",
       "      <td>13801.314</td>\n",
       "      <td>55.061820</td>\n",
       "      <td>13806.068014</td>\n",
       "    </tr>\n",
       "    <tr>\n",
       "      <th>3</th>\n",
       "      <td>1514765040</td>\n",
       "      <td>435.0</td>\n",
       "      <td>13802.512</td>\n",
       "      <td>13999.0</td>\n",
       "      <td>13576.28</td>\n",
       "      <td>13768.040</td>\n",
       "      <td>38.780529</td>\n",
       "      <td>13783.598101</td>\n",
       "    </tr>\n",
       "    <tr>\n",
       "      <th>4</th>\n",
       "      <td>1514765100</td>\n",
       "      <td>742.0</td>\n",
       "      <td>13766.000</td>\n",
       "      <td>13955.9</td>\n",
       "      <td>13554.44</td>\n",
       "      <td>13724.914</td>\n",
       "      <td>108.501637</td>\n",
       "      <td>13735.586842</td>\n",
       "    </tr>\n",
       "  </tbody>\n",
       "</table>\n",
       "</div>"
      ],
      "text/plain": [
       "    timestamp  Count       Open     High       Low      Close      Volume  \\\n",
       "0  1514764860  229.0  13835.194  14013.8  13666.11  13850.176   31.550062   \n",
       "1  1514764920  235.0  13835.036  14052.3  13680.00  13828.102   31.046432   \n",
       "2  1514764980  528.0  13823.900  14000.4  13601.00  13801.314   55.061820   \n",
       "3  1514765040  435.0  13802.512  13999.0  13576.28  13768.040   38.780529   \n",
       "4  1514765100  742.0  13766.000  13955.9  13554.44  13724.914  108.501637   \n",
       "\n",
       "           VWAP  \n",
       "0  13827.062093  \n",
       "1  13840.362591  \n",
       "2  13806.068014  \n",
       "3  13783.598101  \n",
       "4  13735.586842  "
      ]
     },
     "execution_count": 14,
     "metadata": {},
     "output_type": "execute_result"
    }
   ],
   "source": [
    "bitcoin.head()"
   ]
  },
  {
   "cell_type": "markdown",
   "id": "8163865a",
   "metadata": {},
   "source": [
    "- Print the tail of the dataset"
   ]
  },
  {
   "cell_type": "code",
   "execution_count": 15,
   "id": "b818efb9",
   "metadata": {},
   "outputs": [
    {
     "data": {
      "text/html": [
       "<div>\n",
       "<style scoped>\n",
       "    .dataframe tbody tr th:only-of-type {\n",
       "        vertical-align: middle;\n",
       "    }\n",
       "\n",
       "    .dataframe tbody tr th {\n",
       "        vertical-align: top;\n",
       "    }\n",
       "\n",
       "    .dataframe thead th {\n",
       "        text-align: right;\n",
       "    }\n",
       "</style>\n",
       "<table border=\"1\" class=\"dataframe\">\n",
       "  <thead>\n",
       "    <tr style=\"text-align: right;\">\n",
       "      <th></th>\n",
       "      <th>timestamp</th>\n",
       "      <th>Count</th>\n",
       "      <th>Open</th>\n",
       "      <th>High</th>\n",
       "      <th>Low</th>\n",
       "      <th>Close</th>\n",
       "      <th>Volume</th>\n",
       "      <th>VWAP</th>\n",
       "    </tr>\n",
       "  </thead>\n",
       "  <tbody>\n",
       "    <tr>\n",
       "      <th>1956955</th>\n",
       "      <td>1632182160</td>\n",
       "      <td>1940.0</td>\n",
       "      <td>42983.780000</td>\n",
       "      <td>43001.850849</td>\n",
       "      <td>42878.26</td>\n",
       "      <td>42899.012857</td>\n",
       "      <td>56.850913</td>\n",
       "      <td>42935.489499</td>\n",
       "    </tr>\n",
       "    <tr>\n",
       "      <th>1956956</th>\n",
       "      <td>1632182220</td>\n",
       "      <td>2026.0</td>\n",
       "      <td>42904.197143</td>\n",
       "      <td>42932.000000</td>\n",
       "      <td>42840.16</td>\n",
       "      <td>42860.005714</td>\n",
       "      <td>80.993326</td>\n",
       "      <td>42879.576084</td>\n",
       "    </tr>\n",
       "    <tr>\n",
       "      <th>1956957</th>\n",
       "      <td>1632182280</td>\n",
       "      <td>1986.0</td>\n",
       "      <td>42859.385714</td>\n",
       "      <td>42887.500000</td>\n",
       "      <td>42797.20</td>\n",
       "      <td>42827.020000</td>\n",
       "      <td>65.677734</td>\n",
       "      <td>42844.090693</td>\n",
       "    </tr>\n",
       "    <tr>\n",
       "      <th>1956958</th>\n",
       "      <td>1632182340</td>\n",
       "      <td>4047.0</td>\n",
       "      <td>42839.012802</td>\n",
       "      <td>43042.160000</td>\n",
       "      <td>42818.10</td>\n",
       "      <td>43017.277143</td>\n",
       "      <td>138.335477</td>\n",
       "      <td>42935.761938</td>\n",
       "    </tr>\n",
       "    <tr>\n",
       "      <th>1956959</th>\n",
       "      <td>1632182400</td>\n",
       "      <td>2698.0</td>\n",
       "      <td>43009.961250</td>\n",
       "      <td>43048.510000</td>\n",
       "      <td>42961.64</td>\n",
       "      <td>43002.505000</td>\n",
       "      <td>128.206820</td>\n",
       "      <td>43011.414052</td>\n",
       "    </tr>\n",
       "  </tbody>\n",
       "</table>\n",
       "</div>"
      ],
      "text/plain": [
       "          timestamp   Count          Open          High       Low  \\\n",
       "1956955  1632182160  1940.0  42983.780000  43001.850849  42878.26   \n",
       "1956956  1632182220  2026.0  42904.197143  42932.000000  42840.16   \n",
       "1956957  1632182280  1986.0  42859.385714  42887.500000  42797.20   \n",
       "1956958  1632182340  4047.0  42839.012802  43042.160000  42818.10   \n",
       "1956959  1632182400  2698.0  43009.961250  43048.510000  42961.64   \n",
       "\n",
       "                Close      Volume          VWAP  \n",
       "1956955  42899.012857   56.850913  42935.489499  \n",
       "1956956  42860.005714   80.993326  42879.576084  \n",
       "1956957  42827.020000   65.677734  42844.090693  \n",
       "1956958  43017.277143  138.335477  42935.761938  \n",
       "1956959  43002.505000  128.206820  43011.414052  "
      ]
     },
     "execution_count": 15,
     "metadata": {},
     "output_type": "execute_result"
    }
   ],
   "source": [
    "bitcoin.tail()"
   ]
  },
  {
   "cell_type": "markdown",
   "id": "6fc16ec4",
   "metadata": {},
   "source": [
    "- Plot graph to see how Bitcoin has changed over time. Below is graph showing the Price vs. Time graph"
   ]
  },
  {
   "cell_type": "code",
   "execution_count": 16,
   "id": "50038dc2",
   "metadata": {},
   "outputs": [
    {
     "data": {
      "text/plain": [
       "Text(0, 0.5, 'Price, $')"
      ]
     },
     "execution_count": 16,
     "metadata": {},
     "output_type": "execute_result"
    },
    {
     "data": {
      "image/png": "[encoded data removed]",
      "text/plain": [
       "<Figure size 1600x560 with 1 Axes>"
      ]
     },
     "metadata": {
      "needs_background": "light"
     },
     "output_type": "display_data"
    }
   ],
   "source": [
    "date = pd.to_datetime(btc.index,unit='s')\n",
    "fig = plt.figure(figsize=(20,7), dpi=80)\n",
    "plt.plot(date, btc['Close'].values)\n",
    "plt.title('Bitcoin')\n",
    "plt.xlabel('Date')\n",
    "plt.ylabel('Price, $')"
   ]
  },
  {
   "cell_type": "markdown",
   "id": "c231cfc8",
   "metadata": {},
   "source": [
    "- Then check the `Open` over time"
   ]
  },
  {
   "cell_type": "code",
   "execution_count": 17,
   "id": "05344755",
   "metadata": {},
   "outputs": [
    {
     "data": {
      "text/plain": [
       "Text(0, 0.5, 'Price, $')"
      ]
     },
     "execution_count": 17,
     "metadata": {},
     "output_type": "execute_result"
    },
    {
     "data": {
      "image/png": "[encoded data removed]",
      "text/plain": [
       "<Figure size 1600x560 with 1 Axes>"
      ]
     },
     "metadata": {
      "needs_background": "light"
     },
     "output_type": "display_data"
    }
   ],
   "source": [
    "date = pd.to_datetime(btc.index,unit='s')\n",
    "fig = plt.figure(figsize=(20,7), dpi=80)\n",
    "plt.plot(date, btc['Open'].values)\n",
    "plt.title('Bitcoin')\n",
    "plt.xlabel('Date')\n",
    "plt.ylabel('Price, $')"
   ]
  },
  {
   "cell_type": "markdown",
   "id": "c0b6dbd3",
   "metadata": {},
   "source": [
    "- Another graph showing how the `Volume` of Bitcoin has changed over time."
   ]
  },
  {
   "cell_type": "code",
   "execution_count": 18,
   "id": "dc72f152",
   "metadata": {},
   "outputs": [
    {
     "data": {
      "text/plain": [
       "Text(0, 0.5, 'Volume')"
      ]
     },
     "execution_count": 18,
     "metadata": {},
     "output_type": "execute_result"
    },
    {
     "data": {
      "image/png": "[encoded data removed]",
      "text/plain": [
       "<Figure size 1600x560 with 1 Axes>"
      ]
     },
     "metadata": {
      "needs_background": "light"
     },
     "output_type": "display_data"
    }
   ],
   "source": [
    "date = pd.to_datetime(btc.index,unit='s')\n",
    "fig = plt.figure(figsize=(20,7), dpi=80)\n",
    "plt.plot(date, btc['Volume'].values)\n",
    "plt.title('Bitcoin')\n",
    "plt.xlabel('Date')\n",
    "plt.ylabel('Volume')"
   ]
  },
  {
   "cell_type": "markdown",
   "id": "3f794a35",
   "metadata": {},
   "source": [
    "- Below graph shows the total number of trades over time. We can see the number of trades have been increased over time."
   ]
  },
  {
   "cell_type": "code",
   "execution_count": 19,
   "id": "488556cc",
   "metadata": {},
   "outputs": [
    {
     "data": {
      "text/plain": [
       "Text(0, 0.5, 'Count')"
      ]
     },
     "execution_count": 19,
     "metadata": {},
     "output_type": "execute_result"
    },
    {
     "data": {
      "image/png": "[encoded data removed]",
      "text/plain": [
       "<Figure size 1600x560 with 1 Axes>"
      ]
     },
     "metadata": {
      "needs_background": "light"
     },
     "output_type": "display_data"
    }
   ],
   "source": [
    "date = pd.to_datetime(btc.index,unit='s')\n",
    "fig = plt.figure(figsize=(20,7), dpi=80)\n",
    "plt.plot(date, btc['Count'].values)\n",
    "plt.title('Bitcoin')\n",
    "plt.xlabel('Date')\n",
    "plt.ylabel('Count')"
   ]
  },
  {
   "cell_type": "code",
   "execution_count": 20,
   "id": "a872d87d",
   "metadata": {},
   "outputs": [
    {
     "data": {
      "image/png": "[encoded data removed]",
      "text/plain": [
       "<Figure size 720x432 with 1 Axes>"
      ]
     },
     "metadata": {
      "needs_background": "light"
     },
     "output_type": "display_data"
    }
   ],
   "source": [
    "# find the yearwise transaction pattern\n",
    "bitcoin1=bitcoin.set_index('timestamp')\n",
    "f = plt.figure(figsize = (10,6))\n",
    "\n",
    "ax = f.add_subplot(111)\n",
    "ax.set_facecolor('azure')\n",
    "plt.plot(bitcoin1['Close'], c = 'darkblue')\n",
    "plt.axvline(x = 1514764860, label = 'Start of 2018', c = 'blue')\n",
    "plt.axvline(x = 1546300860, label = 'Start of 2019', c = 'orange')\n",
    "plt.axvline(x = 1577836860, label = 'Start of 2020', c = 'forestgreen')\n",
    "plt.axvline(x = 1609459260, label = 'Start of 2021', c = 'crimson')\n",
    "plt.legend()\n",
    "plt.xlabel('Time')\n",
    "plt.ylabel('Bitcoin Close')\n",
    "plt.grid()\n",
    "plt.title('Close price of Bitcoin')\n",
    "\n",
    "plt.show()"
   ]
  },
  {
   "cell_type": "markdown",
   "id": "8b3054c8",
   "metadata": {},
   "source": [
    "We can easily see from the chart above that bitcoin had significant increasing in 2021, but in 2018 to 2020 it didn't have that much change, the price started to increase by the end of 2020."
   ]
  },
  {
   "cell_type": "markdown",
   "id": "a566d24d",
   "metadata": {},
   "source": [
    "## Descriptive statistics"
   ]
  },
  {
   "cell_type": "code",
   "execution_count": 21,
   "id": "b034434a",
   "metadata": {},
   "outputs": [
    {
     "data": {
      "text/html": [
       "<div>\n",
       "<style scoped>\n",
       "    .dataframe tbody tr th:only-of-type {\n",
       "        vertical-align: middle;\n",
       "    }\n",
       "\n",
       "    .dataframe tbody tr th {\n",
       "        vertical-align: top;\n",
       "    }\n",
       "\n",
       "    .dataframe thead th {\n",
       "        text-align: right;\n",
       "    }\n",
       "</style>\n",
       "<table border=\"1\" class=\"dataframe\">\n",
       "  <thead>\n",
       "    <tr style=\"text-align: right;\">\n",
       "      <th></th>\n",
       "      <th>Count</th>\n",
       "      <th>Open</th>\n",
       "      <th>High</th>\n",
       "      <th>Low</th>\n",
       "      <th>Close</th>\n",
       "      <th>Volume</th>\n",
       "      <th>VWAP</th>\n",
       "    </tr>\n",
       "  </thead>\n",
       "  <tbody>\n",
       "    <tr>\n",
       "      <th>count</th>\n",
       "      <td>1956960.00000</td>\n",
       "      <td>1956960.00000</td>\n",
       "      <td>1956960.00000</td>\n",
       "      <td>1956960.00000</td>\n",
       "      <td>1956960.00000</td>\n",
       "      <td>1956960.00000</td>\n",
       "      <td>1956960.00000</td>\n",
       "    </tr>\n",
       "    <tr>\n",
       "      <th>mean</th>\n",
       "      <td>1082.04475</td>\n",
       "      <td>15608.68223</td>\n",
       "      <td>15649.36142</td>\n",
       "      <td>15575.61440</td>\n",
       "      <td>15608.68257</td>\n",
       "      <td>92.82028</td>\n",
       "      <td>15608.56191</td>\n",
       "    </tr>\n",
       "    <tr>\n",
       "      <th>std</th>\n",
       "      <td>1601.67241</td>\n",
       "      <td>15119.57441</td>\n",
       "      <td>15130.20280</td>\n",
       "      <td>15104.42902</td>\n",
       "      <td>15119.60222</td>\n",
       "      <td>155.38791</td>\n",
       "      <td>15119.45477</td>\n",
       "    </tr>\n",
       "    <tr>\n",
       "      <th>min</th>\n",
       "      <td>1.00000</td>\n",
       "      <td>3149.65714</td>\n",
       "      <td>3176.91000</td>\n",
       "      <td>3120.00000</td>\n",
       "      <td>3151.54500</td>\n",
       "      <td>0.00010</td>\n",
       "      <td>3152.32587</td>\n",
       "    </tr>\n",
       "    <tr>\n",
       "      <th>25%</th>\n",
       "      <td>298.00000</td>\n",
       "      <td>6849.08799</td>\n",
       "      <td>6866.38500</td>\n",
       "      <td>6836.59250</td>\n",
       "      <td>6849.04446</td>\n",
       "      <td>30.18709</td>\n",
       "      <td>6849.11414</td>\n",
       "    </tr>\n",
       "    <tr>\n",
       "      <th>50%</th>\n",
       "      <td>563.00000</td>\n",
       "      <td>9204.97250</td>\n",
       "      <td>9221.20000</td>\n",
       "      <td>9190.26000</td>\n",
       "      <td>9204.93012</td>\n",
       "      <td>52.78533</td>\n",
       "      <td>9204.92734</td>\n",
       "    </tr>\n",
       "    <tr>\n",
       "      <th>75%</th>\n",
       "      <td>1259.00000</td>\n",
       "      <td>13459.61694</td>\n",
       "      <td>13516.34250</td>\n",
       "      <td>13393.46032</td>\n",
       "      <td>13460.30958</td>\n",
       "      <td>97.65168</td>\n",
       "      <td>13460.49157</td>\n",
       "    </tr>\n",
       "    <tr>\n",
       "      <th>max</th>\n",
       "      <td>87478.00000</td>\n",
       "      <td>64805.94375</td>\n",
       "      <td>64900.00000</td>\n",
       "      <td>64670.53000</td>\n",
       "      <td>64808.53728</td>\n",
       "      <td>10404.99537</td>\n",
       "      <td>64799.82221</td>\n",
       "    </tr>\n",
       "  </tbody>\n",
       "</table>\n",
       "</div>"
      ],
      "text/plain": [
       "               Count           Open           High            Low  \\\n",
       "count  1956960.00000  1956960.00000  1956960.00000  1956960.00000   \n",
       "mean      1082.04475    15608.68223    15649.36142    15575.61440   \n",
       "std       1601.67241    15119.57441    15130.20280    15104.42902   \n",
       "min          1.00000     3149.65714     3176.91000     3120.00000   \n",
       "25%        298.00000     6849.08799     6866.38500     6836.59250   \n",
       "50%        563.00000     9204.97250     9221.20000     9190.26000   \n",
       "75%       1259.00000    13459.61694    13516.34250    13393.46032   \n",
       "max      87478.00000    64805.94375    64900.00000    64670.53000   \n",
       "\n",
       "               Close         Volume           VWAP  \n",
       "count  1956960.00000  1956960.00000  1956960.00000  \n",
       "mean     15608.68257       92.82028    15608.56191  \n",
       "std      15119.60222      155.38791    15119.45477  \n",
       "min       3151.54500        0.00010     3152.32587  \n",
       "25%       6849.04446       30.18709     6849.11414  \n",
       "50%       9204.93012       52.78533     9204.92734  \n",
       "75%      13460.30958       97.65168    13460.49157  \n",
       "max      64808.53728    10404.99537    64799.82221  "
      ]
     },
     "execution_count": 21,
     "metadata": {},
     "output_type": "execute_result"
    }
   ],
   "source": [
    "bitcoin1.describe().apply(lambda s: s.apply('{0:.5f}'.format))"
   ]
  },
  {
   "cell_type": "markdown",
   "id": "6c4cb83b",
   "metadata": {},
   "source": [
    "- From descriptive statistics table above, we can see the price range has a significant different. Looking into `Close`, in the time frame from 2018 to 2021, the lowest price of bitcoin was 3151 but the higest price was 64808, we can easily see how volatite the bitcoin was in the past.\n",
    "- The std of most of the variables have a pretty close value with the mean, only volume has a big differece. If the data points are further from the mean, there is a higher deviation within the data set; thus, the more spread out the data, the higher the standard deviation. We can conclude that Open, High, Low and Close values are really volitile but the volume of trading is pretty consistent compare to other components."
   ]
  },
  {
   "cell_type": "markdown",
   "id": "15c7adad",
   "metadata": {},
   "source": [
    "## 6. Build the model"
   ]
  },
  {
   "cell_type": "markdown",
   "id": "3cb50e34",
   "metadata": {},
   "source": [
    "- Since 2021 data has a big change compared to the rest of the dataset, We will split data to use data in 2021 to predict the price."
   ]
  },
  {
   "cell_type": "code",
   "execution_count": 22,
   "id": "b1adf247",
   "metadata": {},
   "outputs": [],
   "source": [
    "totimestamp = lambda s: np.int32(time.mktime(datetime.strptime(s, \"%m/%d/%Y\").timetuple()))\n",
    "bitcoin21 = bitcoin.loc[totimestamp('01/01/2021'):totimestamp('09/21/2021'),]\n",
    "bitcoin21 = bitcoin.set_index(\"timestamp\")"
   ]
  },
  {
   "cell_type": "code",
   "execution_count": 23,
   "id": "4ea5df8a",
   "metadata": {},
   "outputs": [
    {
     "data": {
      "text/plain": [
       "(1956960, 7)"
      ]
     },
     "execution_count": 23,
     "metadata": {},
     "output_type": "execute_result"
    }
   ],
   "source": [
    "bitcoin21.shape"
   ]
  },
  {
   "cell_type": "code",
   "execution_count": 24,
   "id": "6784732b",
   "metadata": {},
   "outputs": [
    {
     "data": {
      "text/html": [
       "<div>\n",
       "<style scoped>\n",
       "    .dataframe tbody tr th:only-of-type {\n",
       "        vertical-align: middle;\n",
       "    }\n",
       "\n",
       "    .dataframe tbody tr th {\n",
       "        vertical-align: top;\n",
       "    }\n",
       "\n",
       "    .dataframe thead th {\n",
       "        text-align: right;\n",
       "    }\n",
       "</style>\n",
       "<table border=\"1\" class=\"dataframe\">\n",
       "  <thead>\n",
       "    <tr style=\"text-align: right;\">\n",
       "      <th></th>\n",
       "      <th>Count</th>\n",
       "      <th>Open</th>\n",
       "      <th>High</th>\n",
       "      <th>Low</th>\n",
       "      <th>Close</th>\n",
       "      <th>Volume</th>\n",
       "      <th>VWAP</th>\n",
       "      <th>datetime</th>\n",
       "    </tr>\n",
       "    <tr>\n",
       "      <th>timestamp</th>\n",
       "      <th></th>\n",
       "      <th></th>\n",
       "      <th></th>\n",
       "      <th></th>\n",
       "      <th></th>\n",
       "      <th></th>\n",
       "      <th></th>\n",
       "      <th></th>\n",
       "    </tr>\n",
       "  </thead>\n",
       "  <tbody>\n",
       "    <tr>\n",
       "      <th>1514764860</th>\n",
       "      <td>229.0</td>\n",
       "      <td>13835.194</td>\n",
       "      <td>14013.8</td>\n",
       "      <td>13666.11</td>\n",
       "      <td>13850.176</td>\n",
       "      <td>31.550062</td>\n",
       "      <td>13827.062093</td>\n",
       "      <td>2018-01-01 00:01:00</td>\n",
       "    </tr>\n",
       "    <tr>\n",
       "      <th>1514764920</th>\n",
       "      <td>235.0</td>\n",
       "      <td>13835.036</td>\n",
       "      <td>14052.3</td>\n",
       "      <td>13680.00</td>\n",
       "      <td>13828.102</td>\n",
       "      <td>31.046432</td>\n",
       "      <td>13840.362591</td>\n",
       "      <td>2018-01-01 00:02:00</td>\n",
       "    </tr>\n",
       "    <tr>\n",
       "      <th>1514764980</th>\n",
       "      <td>528.0</td>\n",
       "      <td>13823.900</td>\n",
       "      <td>14000.4</td>\n",
       "      <td>13601.00</td>\n",
       "      <td>13801.314</td>\n",
       "      <td>55.061820</td>\n",
       "      <td>13806.068014</td>\n",
       "      <td>2018-01-01 00:03:00</td>\n",
       "    </tr>\n",
       "    <tr>\n",
       "      <th>1514765040</th>\n",
       "      <td>435.0</td>\n",
       "      <td>13802.512</td>\n",
       "      <td>13999.0</td>\n",
       "      <td>13576.28</td>\n",
       "      <td>13768.040</td>\n",
       "      <td>38.780529</td>\n",
       "      <td>13783.598101</td>\n",
       "      <td>2018-01-01 00:04:00</td>\n",
       "    </tr>\n",
       "    <tr>\n",
       "      <th>1514765100</th>\n",
       "      <td>742.0</td>\n",
       "      <td>13766.000</td>\n",
       "      <td>13955.9</td>\n",
       "      <td>13554.44</td>\n",
       "      <td>13724.914</td>\n",
       "      <td>108.501637</td>\n",
       "      <td>13735.586842</td>\n",
       "      <td>2018-01-01 00:05:00</td>\n",
       "    </tr>\n",
       "  </tbody>\n",
       "</table>\n",
       "</div>"
      ],
      "text/plain": [
       "            Count       Open     High       Low      Close      Volume  \\\n",
       "timestamp                                                                \n",
       "1514764860  229.0  13835.194  14013.8  13666.11  13850.176   31.550062   \n",
       "1514764920  235.0  13835.036  14052.3  13680.00  13828.102   31.046432   \n",
       "1514764980  528.0  13823.900  14000.4  13601.00  13801.314   55.061820   \n",
       "1514765040  435.0  13802.512  13999.0  13576.28  13768.040   38.780529   \n",
       "1514765100  742.0  13766.000  13955.9  13554.44  13724.914  108.501637   \n",
       "\n",
       "                    VWAP            datetime  \n",
       "timestamp                                     \n",
       "1514764860  13827.062093 2018-01-01 00:01:00  \n",
       "1514764920  13840.362591 2018-01-01 00:02:00  \n",
       "1514764980  13806.068014 2018-01-01 00:03:00  \n",
       "1514765040  13783.598101 2018-01-01 00:04:00  \n",
       "1514765100  13735.586842 2018-01-01 00:05:00  "
      ]
     },
     "execution_count": 24,
     "metadata": {},
     "output_type": "execute_result"
    }
   ],
   "source": [
    "bitcoin21['datetime'] = pd.to_datetime(bitcoin21.index,unit='s')\n",
    "bitcoin21_plot = bitcoin21.set_index('datetime')\n",
    "bitcoin21.head()"
   ]
  },
  {
   "cell_type": "code",
   "execution_count": 25,
   "id": "dd094557",
   "metadata": {},
   "outputs": [
    {
     "data": {
      "text/html": [
       "<div>\n",
       "<style scoped>\n",
       "    .dataframe tbody tr th:only-of-type {\n",
       "        vertical-align: middle;\n",
       "    }\n",
       "\n",
       "    .dataframe tbody tr th {\n",
       "        vertical-align: top;\n",
       "    }\n",
       "\n",
       "    .dataframe thead th {\n",
       "        text-align: right;\n",
       "    }\n",
       "</style>\n",
       "<table border=\"1\" class=\"dataframe\">\n",
       "  <thead>\n",
       "    <tr style=\"text-align: right;\">\n",
       "      <th></th>\n",
       "      <th>Count</th>\n",
       "      <th>Open</th>\n",
       "      <th>High</th>\n",
       "      <th>Low</th>\n",
       "      <th>Close</th>\n",
       "      <th>Volume</th>\n",
       "      <th>VWAP</th>\n",
       "      <th>datetime</th>\n",
       "    </tr>\n",
       "    <tr>\n",
       "      <th>timestamp</th>\n",
       "      <th></th>\n",
       "      <th></th>\n",
       "      <th></th>\n",
       "      <th></th>\n",
       "      <th></th>\n",
       "      <th></th>\n",
       "      <th></th>\n",
       "      <th></th>\n",
       "    </tr>\n",
       "  </thead>\n",
       "  <tbody>\n",
       "    <tr>\n",
       "      <th>1632182160</th>\n",
       "      <td>1940.0</td>\n",
       "      <td>42983.780000</td>\n",
       "      <td>43001.850849</td>\n",
       "      <td>42878.26</td>\n",
       "      <td>42899.012857</td>\n",
       "      <td>56.850913</td>\n",
       "      <td>42935.489499</td>\n",
       "      <td>2021-09-20 23:56:00</td>\n",
       "    </tr>\n",
       "    <tr>\n",
       "      <th>1632182220</th>\n",
       "      <td>2026.0</td>\n",
       "      <td>42904.197143</td>\n",
       "      <td>42932.000000</td>\n",
       "      <td>42840.16</td>\n",
       "      <td>42860.005714</td>\n",
       "      <td>80.993326</td>\n",
       "      <td>42879.576084</td>\n",
       "      <td>2021-09-20 23:57:00</td>\n",
       "    </tr>\n",
       "    <tr>\n",
       "      <th>1632182280</th>\n",
       "      <td>1986.0</td>\n",
       "      <td>42859.385714</td>\n",
       "      <td>42887.500000</td>\n",
       "      <td>42797.20</td>\n",
       "      <td>42827.020000</td>\n",
       "      <td>65.677734</td>\n",
       "      <td>42844.090693</td>\n",
       "      <td>2021-09-20 23:58:00</td>\n",
       "    </tr>\n",
       "    <tr>\n",
       "      <th>1632182340</th>\n",
       "      <td>4047.0</td>\n",
       "      <td>42839.012802</td>\n",
       "      <td>43042.160000</td>\n",
       "      <td>42818.10</td>\n",
       "      <td>43017.277143</td>\n",
       "      <td>138.335477</td>\n",
       "      <td>42935.761938</td>\n",
       "      <td>2021-09-20 23:59:00</td>\n",
       "    </tr>\n",
       "    <tr>\n",
       "      <th>1632182400</th>\n",
       "      <td>2698.0</td>\n",
       "      <td>43009.961250</td>\n",
       "      <td>43048.510000</td>\n",
       "      <td>42961.64</td>\n",
       "      <td>43002.505000</td>\n",
       "      <td>128.206820</td>\n",
       "      <td>43011.414052</td>\n",
       "      <td>2021-09-21 00:00:00</td>\n",
       "    </tr>\n",
       "  </tbody>\n",
       "</table>\n",
       "</div>"
      ],
      "text/plain": [
       "             Count          Open          High       Low         Close  \\\n",
       "timestamp                                                                \n",
       "1632182160  1940.0  42983.780000  43001.850849  42878.26  42899.012857   \n",
       "1632182220  2026.0  42904.197143  42932.000000  42840.16  42860.005714   \n",
       "1632182280  1986.0  42859.385714  42887.500000  42797.20  42827.020000   \n",
       "1632182340  4047.0  42839.012802  43042.160000  42818.10  43017.277143   \n",
       "1632182400  2698.0  43009.961250  43048.510000  42961.64  43002.505000   \n",
       "\n",
       "                Volume          VWAP            datetime  \n",
       "timestamp                                                 \n",
       "1632182160   56.850913  42935.489499 2021-09-20 23:56:00  \n",
       "1632182220   80.993326  42879.576084 2021-09-20 23:57:00  \n",
       "1632182280   65.677734  42844.090693 2021-09-20 23:58:00  \n",
       "1632182340  138.335477  42935.761938 2021-09-20 23:59:00  \n",
       "1632182400  128.206820  43011.414052 2021-09-21 00:00:00  "
      ]
     },
     "execution_count": 25,
     "metadata": {},
     "output_type": "execute_result"
    }
   ],
   "source": [
    "bitcoin21.tail()"
   ]
  },
  {
   "cell_type": "code",
   "execution_count": 26,
   "id": "3694f669",
   "metadata": {},
   "outputs": [],
   "source": [
    "bitcoin21.to_csv(\"s3://msba-crypto-cats-east/sample-lstm/bitcoin_2021.csv\")"
   ]
  },
  {
   "cell_type": "code",
   "execution_count": 27,
   "id": "a28dbafa",
   "metadata": {},
   "outputs": [],
   "source": [
    "#bitcoin21.to_csv(\"s3://msba-crypto-cats-east/sample-lstm/btc_2021.csv\")"
   ]
  },
  {
   "cell_type": "markdown",
   "id": "59e9cd4d",
   "metadata": {},
   "source": [
    "### Select Dates"
   ]
  },
  {
   "cell_type": "markdown",
   "id": "a59538e2",
   "metadata": {},
   "source": [
    "- We split `80%` data points for training and `20%` for testing. Observation is recorded every 60 seconds, that means 60 times per hour. \n",
    "\n",
    "- We are tracking data from `2021` and `one month`. This data will be used to predict the price after 15 timestamps (150/10=15 minutes).\n",
    "\n",
    "- to normalize data, We will take the `MinMaxScaler` preprocessing class from the scikit-learn library."
   ]
  },
  {
   "cell_type": "code",
   "execution_count": 28,
   "id": "6de14076",
   "metadata": {},
   "outputs": [
    {
     "data": {
      "text/html": [
       "<div>\n",
       "<style scoped>\n",
       "    .dataframe tbody tr th:only-of-type {\n",
       "        vertical-align: middle;\n",
       "    }\n",
       "\n",
       "    .dataframe tbody tr th {\n",
       "        vertical-align: top;\n",
       "    }\n",
       "\n",
       "    .dataframe thead th {\n",
       "        text-align: right;\n",
       "    }\n",
       "</style>\n",
       "<table border=\"1\" class=\"dataframe\">\n",
       "  <thead>\n",
       "    <tr style=\"text-align: right;\">\n",
       "      <th></th>\n",
       "      <th>timestamp</th>\n",
       "      <th>Count</th>\n",
       "      <th>Open</th>\n",
       "      <th>High</th>\n",
       "      <th>Low</th>\n",
       "      <th>Close</th>\n",
       "      <th>Volume</th>\n",
       "      <th>VWAP</th>\n",
       "      <th>datetime</th>\n",
       "    </tr>\n",
       "  </thead>\n",
       "  <tbody>\n",
       "    <tr>\n",
       "      <th>0</th>\n",
       "      <td>1514764860</td>\n",
       "      <td>229.0</td>\n",
       "      <td>13835.194</td>\n",
       "      <td>14013.8</td>\n",
       "      <td>13666.11</td>\n",
       "      <td>13850.176</td>\n",
       "      <td>31.550062</td>\n",
       "      <td>13827.062093</td>\n",
       "      <td>2018-01-01 00:01:00</td>\n",
       "    </tr>\n",
       "    <tr>\n",
       "      <th>1</th>\n",
       "      <td>1514764920</td>\n",
       "      <td>235.0</td>\n",
       "      <td>13835.036</td>\n",
       "      <td>14052.3</td>\n",
       "      <td>13680.00</td>\n",
       "      <td>13828.102</td>\n",
       "      <td>31.046432</td>\n",
       "      <td>13840.362591</td>\n",
       "      <td>2018-01-01 00:02:00</td>\n",
       "    </tr>\n",
       "    <tr>\n",
       "      <th>2</th>\n",
       "      <td>1514764980</td>\n",
       "      <td>528.0</td>\n",
       "      <td>13823.900</td>\n",
       "      <td>14000.4</td>\n",
       "      <td>13601.00</td>\n",
       "      <td>13801.314</td>\n",
       "      <td>55.061820</td>\n",
       "      <td>13806.068014</td>\n",
       "      <td>2018-01-01 00:03:00</td>\n",
       "    </tr>\n",
       "    <tr>\n",
       "      <th>3</th>\n",
       "      <td>1514765040</td>\n",
       "      <td>435.0</td>\n",
       "      <td>13802.512</td>\n",
       "      <td>13999.0</td>\n",
       "      <td>13576.28</td>\n",
       "      <td>13768.040</td>\n",
       "      <td>38.780529</td>\n",
       "      <td>13783.598101</td>\n",
       "      <td>2018-01-01 00:04:00</td>\n",
       "    </tr>\n",
       "    <tr>\n",
       "      <th>4</th>\n",
       "      <td>1514765100</td>\n",
       "      <td>742.0</td>\n",
       "      <td>13766.000</td>\n",
       "      <td>13955.9</td>\n",
       "      <td>13554.44</td>\n",
       "      <td>13724.914</td>\n",
       "      <td>108.501637</td>\n",
       "      <td>13735.586842</td>\n",
       "      <td>2018-01-01 00:05:00</td>\n",
       "    </tr>\n",
       "  </tbody>\n",
       "</table>\n",
       "</div>"
      ],
      "text/plain": [
       "    timestamp  Count       Open     High       Low      Close      Volume  \\\n",
       "0  1514764860  229.0  13835.194  14013.8  13666.11  13850.176   31.550062   \n",
       "1  1514764920  235.0  13835.036  14052.3  13680.00  13828.102   31.046432   \n",
       "2  1514764980  528.0  13823.900  14000.4  13601.00  13801.314   55.061820   \n",
       "3  1514765040  435.0  13802.512  13999.0  13576.28  13768.040   38.780529   \n",
       "4  1514765100  742.0  13766.000  13955.9  13554.44  13724.914  108.501637   \n",
       "\n",
       "           VWAP             datetime  \n",
       "0  13827.062093  2018-01-01 00:01:00  \n",
       "1  13840.362591  2018-01-01 00:02:00  \n",
       "2  13806.068014  2018-01-01 00:03:00  \n",
       "3  13783.598101  2018-01-01 00:04:00  \n",
       "4  13735.586842  2018-01-01 00:05:00  "
      ]
     },
     "execution_count": 28,
     "metadata": {},
     "output_type": "execute_result"
    }
   ],
   "source": [
    "# directly load clean data for faster training\n",
    "\n",
    "#df = pd.read_csv('s3://msba-crypto-cats-east/sample-lstm/btc_0628.csv') # whole dates\n",
    "\n",
    "df = pd.read_csv(\"s3://msba-crypto-cats-east/sample-lstm/bitcoin_2021.csv\") #2021\n",
    "\n",
    "df.head()"
   ]
  },
  {
   "cell_type": "markdown",
   "id": "f48b013c",
   "metadata": {},
   "source": [
    "## Data of 2021"
   ]
  },
  {
   "cell_type": "code",
   "execution_count": 62,
   "id": "710c0818",
   "metadata": {},
   "outputs": [],
   "source": [
    "df.index=df['datetime'] \n",
    "df =df.loc['2021-01-01 00:01:00':'2021-09-21 00:00:00'] # 2021 data"
   ]
  },
  {
   "cell_type": "code",
   "execution_count": 63,
   "id": "4788a7a4",
   "metadata": {},
   "outputs": [
    {
     "data": {
      "text/html": [
       "<div>\n",
       "<style scoped>\n",
       "    .dataframe tbody tr th:only-of-type {\n",
       "        vertical-align: middle;\n",
       "    }\n",
       "\n",
       "    .dataframe tbody tr th {\n",
       "        vertical-align: top;\n",
       "    }\n",
       "\n",
       "    .dataframe thead th {\n",
       "        text-align: right;\n",
       "    }\n",
       "</style>\n",
       "<table border=\"1\" class=\"dataframe\">\n",
       "  <thead>\n",
       "    <tr style=\"text-align: right;\">\n",
       "      <th></th>\n",
       "      <th>timestamp</th>\n",
       "      <th>Count</th>\n",
       "      <th>Open</th>\n",
       "      <th>High</th>\n",
       "      <th>Low</th>\n",
       "      <th>Close</th>\n",
       "      <th>Volume</th>\n",
       "      <th>VWAP</th>\n",
       "      <th>datetime</th>\n",
       "    </tr>\n",
       "    <tr>\n",
       "      <th>datetime</th>\n",
       "      <th></th>\n",
       "      <th></th>\n",
       "      <th></th>\n",
       "      <th></th>\n",
       "      <th></th>\n",
       "      <th></th>\n",
       "      <th></th>\n",
       "      <th></th>\n",
       "      <th></th>\n",
       "    </tr>\n",
       "  </thead>\n",
       "  <tbody>\n",
       "    <tr>\n",
       "      <th>2021-01-01 00:01:00</th>\n",
       "      <td>1609459260</td>\n",
       "      <td>4039.0</td>\n",
       "      <td>28985.511250</td>\n",
       "      <td>29086.90</td>\n",
       "      <td>28960.0</td>\n",
       "      <td>29032.387500</td>\n",
       "      <td>163.787036</td>\n",
       "      <td>29017.664870</td>\n",
       "      <td>2021-01-01 00:01:00</td>\n",
       "    </tr>\n",
       "    <tr>\n",
       "      <th>2021-01-01 00:02:00</th>\n",
       "      <td>1609459320</td>\n",
       "      <td>1969.0</td>\n",
       "      <td>29031.175000</td>\n",
       "      <td>29079.56</td>\n",
       "      <td>28951.5</td>\n",
       "      <td>29002.956734</td>\n",
       "      <td>98.754670</td>\n",
       "      <td>29014.703526</td>\n",
       "      <td>2021-01-01 00:02:00</td>\n",
       "    </tr>\n",
       "    <tr>\n",
       "      <th>2021-01-01 00:03:00</th>\n",
       "      <td>1609459380</td>\n",
       "      <td>1689.0</td>\n",
       "      <td>29002.977509</td>\n",
       "      <td>29069.39</td>\n",
       "      <td>28967.8</td>\n",
       "      <td>29005.580000</td>\n",
       "      <td>55.202131</td>\n",
       "      <td>29003.078663</td>\n",
       "      <td>2021-01-01 00:03:00</td>\n",
       "    </tr>\n",
       "    <tr>\n",
       "      <th>2021-01-01 00:04:00</th>\n",
       "      <td>1609459440</td>\n",
       "      <td>1146.0</td>\n",
       "      <td>29004.293750</td>\n",
       "      <td>29057.73</td>\n",
       "      <td>28971.8</td>\n",
       "      <td>29000.490000</td>\n",
       "      <td>56.575903</td>\n",
       "      <td>29006.256629</td>\n",
       "      <td>2021-01-01 00:04:00</td>\n",
       "    </tr>\n",
       "    <tr>\n",
       "      <th>2021-01-01 00:05:00</th>\n",
       "      <td>1609459500</td>\n",
       "      <td>2088.0</td>\n",
       "      <td>28994.918934</td>\n",
       "      <td>29031.71</td>\n",
       "      <td>28929.3</td>\n",
       "      <td>28962.285818</td>\n",
       "      <td>70.319136</td>\n",
       "      <td>28972.005783</td>\n",
       "      <td>2021-01-01 00:05:00</td>\n",
       "    </tr>\n",
       "  </tbody>\n",
       "</table>\n",
       "</div>"
      ],
      "text/plain": [
       "                      timestamp   Count          Open      High      Low  \\\n",
       "datetime                                                                   \n",
       "2021-01-01 00:01:00  1609459260  4039.0  28985.511250  29086.90  28960.0   \n",
       "2021-01-01 00:02:00  1609459320  1969.0  29031.175000  29079.56  28951.5   \n",
       "2021-01-01 00:03:00  1609459380  1689.0  29002.977509  29069.39  28967.8   \n",
       "2021-01-01 00:04:00  1609459440  1146.0  29004.293750  29057.73  28971.8   \n",
       "2021-01-01 00:05:00  1609459500  2088.0  28994.918934  29031.71  28929.3   \n",
       "\n",
       "                            Close      Volume          VWAP  \\\n",
       "datetime                                                      \n",
       "2021-01-01 00:01:00  29032.387500  163.787036  29017.664870   \n",
       "2021-01-01 00:02:00  29002.956734   98.754670  29014.703526   \n",
       "2021-01-01 00:03:00  29005.580000   55.202131  29003.078663   \n",
       "2021-01-01 00:04:00  29000.490000   56.575903  29006.256629   \n",
       "2021-01-01 00:05:00  28962.285818   70.319136  28972.005783   \n",
       "\n",
       "                                datetime  \n",
       "datetime                                  \n",
       "2021-01-01 00:01:00  2021-01-01 00:01:00  \n",
       "2021-01-01 00:02:00  2021-01-01 00:02:00  \n",
       "2021-01-01 00:03:00  2021-01-01 00:03:00  \n",
       "2021-01-01 00:04:00  2021-01-01 00:04:00  \n",
       "2021-01-01 00:05:00  2021-01-01 00:05:00  "
      ]
     },
     "execution_count": 63,
     "metadata": {},
     "output_type": "execute_result"
    }
   ],
   "source": [
    "df.head()"
   ]
  },
  {
   "cell_type": "markdown",
   "id": "8bcb2086",
   "metadata": {},
   "source": [
    "### Multi-Feature"
   ]
  },
  {
   "cell_type": "markdown",
   "id": "93592a94",
   "metadata": {},
   "source": [
    "We create the model by splitting the data set with 80% of train data and 20% of test data, we use 3 features: `Count`, `Close` and `Volume`"
   ]
  },
  {
   "cell_type": "code",
   "execution_count": 64,
   "id": "8b044f74",
   "metadata": {},
   "outputs": [
    {
     "name": "stdout",
     "output_type": "stream",
     "text": [
      "train shape: (302976, 3)\n",
      "test shape: (75744, 3)\n",
      "X_train shape: (302961, 3)\n",
      "X_test shape: (75744, 3)\n"
     ]
    }
   ],
   "source": [
    "num_shape = round(df.shape[0]*0.8)\n",
    "window = 15\n",
    "train = df.iloc[:num_shape, [2,6,7]].values\n",
    "test = df.iloc[num_shape:, [2,6,7]].values\n",
    "TestingRecords=len(df[num_shape:])\n",
    "\n",
    "df_price = np.vstack((train, test)) #used to stack arrays in sequence vertically (row wise)\n",
    "print(\"train shape:\", train.shape)\n",
    "print(\"test shape:\", test.shape)\n",
    "sc = MinMaxScaler(feature_range = (0, 1))\n",
    "# Previous prices, price on next day, window\n",
    "# Fit the scaler using available training data, then apply the scale to training data.\n",
    "X_train, Y_train = [], []\n",
    "train_scaled = sc.fit_transform(train)\n",
    "\n",
    "for i in range(train.shape[0]-window):\n",
    "    batch = train_scaled[i, :]\n",
    "    X_train.append(batch)\n",
    "    Y_train.append(train_scaled[i+window, 0])\n",
    "X_train = np.stack(X_train)\n",
    "Y_train = np.stack(Y_train)\n",
    "\n",
    "X_test = []\n",
    "Y_test = []\n",
    "test_scaled = sc.fit_transform(df_price[num_shape-window:])\n",
    "\n",
    "for i in range(test.shape[0]):\n",
    "    batch = test_scaled[i, :]\n",
    "    X_test.append(batch)\n",
    "    Y_test.append(train_scaled[i+window, 0])\n",
    "X_test = np.stack(X_test)\n",
    "Y_test = np.stack(Y_test)\n",
    "print(\"X_train shape:\", X_train.shape)\n",
    "print(\"X_test shape:\", X_test.shape)"
   ]
  },
  {
   "cell_type": "markdown",
   "id": "9311cd01",
   "metadata": {},
   "source": [
    "- Apply the model"
   ]
  },
  {
   "cell_type": "code",
   "execution_count": 65,
   "id": "7574bb85",
   "metadata": {},
   "outputs": [
    {
     "data": {
      "text/plain": [
       "LinearRegression()"
      ]
     },
     "execution_count": 65,
     "metadata": {},
     "output_type": "execute_result"
    }
   ],
   "source": [
    "from sklearn.linear_model import LinearRegression\n",
    "model = LinearRegression()\n",
    "model.fit(X_train, Y_train)"
   ]
  },
  {
   "cell_type": "code",
   "execution_count": 66,
   "id": "a6bc49c1",
   "metadata": {},
   "outputs": [
    {
     "name": "stdout",
     "output_type": "stream",
     "text": [
      "Results by manual calculation:\n",
      "MAE: 4705.569770418973\n",
      "MSE: 34362423.608183004\n",
      "RMSE: 5861.947083365987\n"
     ]
    }
   ],
   "source": [
    "# prepare the proper shape for inverse_transform\n",
    "t = np.zeros((len(Y_test),2))\n",
    "\n",
    "# Getting the original price values for testing data\n",
    "yt = np.c_[Y_test,t]\n",
    "orig=sc.inverse_transform(yt)[:,0]\n",
    "\n",
    "# Making predictions on test data\n",
    "predicted_Price = model.predict(X_test)\n",
    "yp = np.c_[predicted_Price,t]\n",
    "predicted_Price=sc.inverse_transform(yp)[:,0]\n",
    "\n",
    "# metrics of the predictions\n",
    "d = predicted_Price - orig\n",
    "mse_f = np.mean(d**2)\n",
    "mae_f = np.mean(abs(d))\n",
    "rmse_f = np.sqrt(mse_f)\n",
    "print(\"Results by manual calculation:\")\n",
    "print(\"MAE:\",mae_f)\n",
    "print(\"MSE:\", mse_f)\n",
    "print(\"RMSE:\", rmse_f)"
   ]
  },
  {
   "cell_type": "code",
   "execution_count": 67,
   "id": "2cf3800a",
   "metadata": {},
   "outputs": [
    {
     "data": {
      "image/png": "[encoded data removed]",
      "text/plain": [
       "<Figure size 1440x432 with 1 Axes>"
      ]
     },
     "metadata": {
      "needs_background": "light"
     },
     "output_type": "display_data"
    }
   ],
   "source": [
    "x1=predicted_Price[:-1000]\n",
    "x2=orig[:-1000]\n",
    "# Visualising the sampling results\n",
    "plt.plot(x1, color = 'pink', label = 'Predicted Volume')\n",
    "plt.plot(x2, color = 'green', label = 'Original Volume')\n",
    " \n",
    "plt.title('Predicting Bitcoin(2021 historical data) ')\n",
    "plt.xlabel(' Date')\n",
    "plt.ylabel(' Price')\n",
    " \n",
    "plt.legend()\n",
    "fig=plt.gcf()\n",
    "fig.set_figwidth(20)\n",
    "fig.set_figheight(6)\n",
    "plt.show()"
   ]
  },
  {
   "cell_type": "markdown",
   "id": "ddc7d049",
   "metadata": {},
   "source": [
    "## Data of one month"
   ]
  },
  {
   "cell_type": "code",
   "execution_count": 101,
   "id": "ba0a9a5e",
   "metadata": {},
   "outputs": [],
   "source": [
    "df.index=df['datetime'] \n",
    "df1 =df.loc['2021-08-01 00:01:00':'2021-08-31 23:59:59'] # one month"
   ]
  },
  {
   "cell_type": "code",
   "execution_count": 102,
   "id": "4fbf28a9",
   "metadata": {},
   "outputs": [
    {
     "data": {
      "text/html": [
       "<div>\n",
       "<style scoped>\n",
       "    .dataframe tbody tr th:only-of-type {\n",
       "        vertical-align: middle;\n",
       "    }\n",
       "\n",
       "    .dataframe tbody tr th {\n",
       "        vertical-align: top;\n",
       "    }\n",
       "\n",
       "    .dataframe thead th {\n",
       "        text-align: right;\n",
       "    }\n",
       "</style>\n",
       "<table border=\"1\" class=\"dataframe\">\n",
       "  <thead>\n",
       "    <tr style=\"text-align: right;\">\n",
       "      <th></th>\n",
       "      <th>timestamp</th>\n",
       "      <th>Count</th>\n",
       "      <th>Open</th>\n",
       "      <th>High</th>\n",
       "      <th>Low</th>\n",
       "      <th>Close</th>\n",
       "      <th>Volume</th>\n",
       "      <th>VWAP</th>\n",
       "      <th>datetime</th>\n",
       "    </tr>\n",
       "    <tr>\n",
       "      <th>datetime</th>\n",
       "      <th></th>\n",
       "      <th></th>\n",
       "      <th></th>\n",
       "      <th></th>\n",
       "      <th></th>\n",
       "      <th></th>\n",
       "      <th></th>\n",
       "      <th></th>\n",
       "      <th></th>\n",
       "    </tr>\n",
       "  </thead>\n",
       "  <tbody>\n",
       "    <tr>\n",
       "      <th>2021-08-01 00:01:00</th>\n",
       "      <td>1627776060</td>\n",
       "      <td>6259.0</td>\n",
       "      <td>41444.920000</td>\n",
       "      <td>41478.50</td>\n",
       "      <td>41256.309885</td>\n",
       "      <td>41295.751429</td>\n",
       "      <td>190.192685</td>\n",
       "      <td>41350.109262</td>\n",
       "      <td>2021-08-01 00:01:00</td>\n",
       "    </tr>\n",
       "    <tr>\n",
       "      <th>2021-08-01 00:02:00</th>\n",
       "      <td>1627776120</td>\n",
       "      <td>11909.0</td>\n",
       "      <td>41292.327143</td>\n",
       "      <td>41345.60</td>\n",
       "      <td>41105.000000</td>\n",
       "      <td>41169.534286</td>\n",
       "      <td>638.870283</td>\n",
       "      <td>41208.024665</td>\n",
       "      <td>2021-08-01 00:02:00</td>\n",
       "    </tr>\n",
       "    <tr>\n",
       "      <th>2021-08-01 00:03:00</th>\n",
       "      <td>1627776180</td>\n",
       "      <td>5532.0</td>\n",
       "      <td>41165.252500</td>\n",
       "      <td>41325.73</td>\n",
       "      <td>41131.000000</td>\n",
       "      <td>41272.851250</td>\n",
       "      <td>441.032651</td>\n",
       "      <td>41224.606365</td>\n",
       "      <td>2021-08-01 00:03:00</td>\n",
       "    </tr>\n",
       "    <tr>\n",
       "      <th>2021-08-01 00:04:00</th>\n",
       "      <td>1627776240</td>\n",
       "      <td>3551.0</td>\n",
       "      <td>41301.122857</td>\n",
       "      <td>41383.10</td>\n",
       "      <td>41277.740000</td>\n",
       "      <td>41358.837143</td>\n",
       "      <td>223.527657</td>\n",
       "      <td>41332.179987</td>\n",
       "      <td>2021-08-01 00:04:00</td>\n",
       "    </tr>\n",
       "    <tr>\n",
       "      <th>2021-08-01 00:05:00</th>\n",
       "      <td>1627776300</td>\n",
       "      <td>6635.0</td>\n",
       "      <td>41362.957143</td>\n",
       "      <td>41569.38</td>\n",
       "      <td>41339.990000</td>\n",
       "      <td>41526.921429</td>\n",
       "      <td>502.113670</td>\n",
       "      <td>41451.623090</td>\n",
       "      <td>2021-08-01 00:05:00</td>\n",
       "    </tr>\n",
       "  </tbody>\n",
       "</table>\n",
       "</div>"
      ],
      "text/plain": [
       "                      timestamp    Count          Open      High  \\\n",
       "datetime                                                           \n",
       "2021-08-01 00:01:00  1627776060   6259.0  41444.920000  41478.50   \n",
       "2021-08-01 00:02:00  1627776120  11909.0  41292.327143  41345.60   \n",
       "2021-08-01 00:03:00  1627776180   5532.0  41165.252500  41325.73   \n",
       "2021-08-01 00:04:00  1627776240   3551.0  41301.122857  41383.10   \n",
       "2021-08-01 00:05:00  1627776300   6635.0  41362.957143  41569.38   \n",
       "\n",
       "                              Low         Close      Volume          VWAP  \\\n",
       "datetime                                                                    \n",
       "2021-08-01 00:01:00  41256.309885  41295.751429  190.192685  41350.109262   \n",
       "2021-08-01 00:02:00  41105.000000  41169.534286  638.870283  41208.024665   \n",
       "2021-08-01 00:03:00  41131.000000  41272.851250  441.032651  41224.606365   \n",
       "2021-08-01 00:04:00  41277.740000  41358.837143  223.527657  41332.179987   \n",
       "2021-08-01 00:05:00  41339.990000  41526.921429  502.113670  41451.623090   \n",
       "\n",
       "                                datetime  \n",
       "datetime                                  \n",
       "2021-08-01 00:01:00  2021-08-01 00:01:00  \n",
       "2021-08-01 00:02:00  2021-08-01 00:02:00  \n",
       "2021-08-01 00:03:00  2021-08-01 00:03:00  \n",
       "2021-08-01 00:04:00  2021-08-01 00:04:00  \n",
       "2021-08-01 00:05:00  2021-08-01 00:05:00  "
      ]
     },
     "execution_count": 102,
     "metadata": {},
     "output_type": "execute_result"
    }
   ],
   "source": [
    "df1.head()"
   ]
  },
  {
   "cell_type": "code",
   "execution_count": 103,
   "id": "eb3725b6",
   "metadata": {},
   "outputs": [
    {
     "name": "stdout",
     "output_type": "stream",
     "text": [
      "train1 shape: (35711, 3)\n",
      "test1 shape: (8928, 3)\n",
      "X_train1 shape: (35696, 3)\n",
      "X_test1 shape: (8928, 3)\n"
     ]
    }
   ],
   "source": [
    "num_shape1 = round(df1.shape[0]*0.8)\n",
    "window = 15\n",
    "train1 = df1.iloc[:num_shape1, [2,6,7]].values\n",
    "test1 = df1.iloc[num_shape1:, [2,6,7]].values\n",
    "TestingRecords=len(df1[num_shape1:])\n",
    "\n",
    "df1_price = np.vstack((train1, test1))\n",
    "print(\"train1 shape:\", train1.shape)\n",
    "print(\"test1 shape:\", test1.shape)\n",
    "sc = MinMaxScaler(feature_range = (0, 1))\n",
    "# Previous prices, price on next day, window\n",
    "X_train1, Y_train1 = [], []\n",
    "train_scaled1 = sc.fit_transform(train1)\n",
    "\n",
    "for i in range(train1.shape[0]-window):\n",
    "    batch = train_scaled1[i, :]\n",
    "    X_train1.append(batch)\n",
    "    Y_train1.append(train_scaled1[i+window, 0])\n",
    "X_train1 = np.stack(X_train1)\n",
    "Y_train1 = np.stack(Y_train1)\n",
    "\n",
    "X_test1 = []\n",
    "Y_test1 = []\n",
    "test_scaled1 = sc.fit_transform(df1_price[num_shape1-window:])\n",
    "\n",
    "for i in range(test1.shape[0]):\n",
    "    batch = test_scaled1[i, :]\n",
    "    X_test1.append(batch)\n",
    "    Y_test1.append(train_scaled1[i+window, 0])\n",
    "X_test1 = np.stack(X_test1)\n",
    "Y_test1 = np.stack(Y_test1)\n",
    "print(\"X_train1 shape:\", X_train1.shape)\n",
    "print(\"X_test1 shape:\", X_test1.shape)"
   ]
  },
  {
   "cell_type": "code",
   "execution_count": 104,
   "id": "4920066b",
   "metadata": {},
   "outputs": [
    {
     "data": {
      "text/plain": [
       "LinearRegression()"
      ]
     },
     "execution_count": 104,
     "metadata": {},
     "output_type": "execute_result"
    }
   ],
   "source": [
    "from sklearn.linear_model import LinearRegression\n",
    "model1 = LinearRegression()\n",
    "model1.fit(X_train1, Y_train1)"
   ]
  },
  {
   "cell_type": "code",
   "execution_count": 105,
   "id": "807cc727",
   "metadata": {},
   "outputs": [
    {
     "name": "stdout",
     "output_type": "stream",
     "text": [
      "Results by manual calculation:\n",
      "MAE: 1202.5267506892458\n",
      "MSE: 2145306.675189014\n",
      "RMSE: 1464.6865450290086\n"
     ]
    }
   ],
   "source": [
    "# prepare the proper shape for inverse_transform\n",
    "t = np.zeros((len(Y_test1),2))\n",
    "\n",
    "# Getting the original price values for testing data\n",
    "yt = np.c_[Y_test1,t]\n",
    "orig1=sc.inverse_transform(yt)[:,0]\n",
    "\n",
    "# Making predictions on test data\n",
    "predicted_Price1 = model1.predict(X_test1)\n",
    "yp = np.c_[predicted_Price1,t]\n",
    "predicted_Price1=sc.inverse_transform(yp)[:,0]\n",
    "\n",
    "# metrics of the predictions\n",
    "d = predicted_Price1 - orig1\n",
    "mse_f = np.mean(d**2)\n",
    "mae_f = np.mean(abs(d))\n",
    "rmse_f = np.sqrt(mse_f)\n",
    "print(\"Results by manual calculation:\")\n",
    "print(\"MAE:\",mae_f)\n",
    "print(\"MSE:\", mse_f)\n",
    "print(\"RMSE:\", rmse_f)"
   ]
  },
  {
   "cell_type": "code",
   "execution_count": 106,
   "id": "2c51efb9",
   "metadata": {},
   "outputs": [
    {
     "data": {
      "image/png": "[encoded data removed]",
      "text/plain": [
       "<Figure size 1440x432 with 1 Axes>"
      ]
     },
     "metadata": {
      "needs_background": "light"
     },
     "output_type": "display_data"
    }
   ],
   "source": [
    "x1=predicted_Price1[:-1000]\n",
    "x2=orig1[:-1000]\n",
    "# Visualising the sampling results\n",
    "plt.plot(x1, color = 'pink', label = 'Predicted Volume')\n",
    "plt.plot(x2, color = 'green', label = 'Original Volume')\n",
    " \n",
    "plt.title('Predicting Bitcoin (One Month historical data) ')\n",
    "plt.xlabel(' Date')\n",
    "plt.ylabel(' Price')\n",
    " \n",
    "plt.legend()\n",
    "fig=plt.gcf()\n",
    "fig.set_figwidth(20)\n",
    "fig.set_figheight(6)\n",
    "plt.show()"
   ]
  },
  {
   "cell_type": "markdown",
   "id": "4d9fb9ed",
   "metadata": {},
   "source": [
    "- MSE (Mean Squared Error) represents the difference between the original and predicted values which are extracted by squaring the average difference over the data set. It is a measure of how close a fitted line is to actual data points. The lesser the Mean Squared Error, the closer the fit is to the data set. \n",
    "- We got a high MSE when using whole historical data in 2021 while MSE is lower when using historical data in one month, this case we used data in august 2021. Thus, we should use data of one month to have a better prediction of the Bitcoin's price. \n",
    "- Next step we will try other different models to find the model with best MSE to decide which model is the best for Bitcoin's prediction."
   ]
  },
  {
   "cell_type": "markdown",
   "id": "0e546789",
   "metadata": {},
   "source": [
    "Approaches                         | Best Test MSE         | \n",
    "-----------------------------------|-----------------------|\n",
    "Multi-features (2021)              | 34362423.60           |                    \n",
    "**Multi-features (one month)**    | **2145306.67**         |                          "
   ]
  }
 ],
 "metadata": {
  "kernelspec": {
   "display_name": "conda_python3",
   "language": "python",
   "name": "conda_python3"
  },
  "language_info": {
   "codemirror_mode": {
    "name": "ipython",
    "version": 3
   },
   "file_extension": ".py",
   "mimetype": "text/x-python",
   "name": "python",
   "nbconvert_exporter": "python",
   "pygments_lexer": "ipython3",
   "version": "3.6.13"
  }
 },
 "nbformat": 4,
 "nbformat_minor": 5
}
